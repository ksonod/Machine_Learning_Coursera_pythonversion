{
 "cells": [
  {
   "cell_type": "markdown",
   "metadata": {},
   "source": [
    "# About this notebook"
   ]
  },
  {
   "cell_type": "markdown",
   "metadata": {},
   "source": [
    "This notebook is based on Coursera's course \"Machine learning\" by Prof. Andrew Ng from Stanford University. In this course, all codes are written in Octave or Matlab. This notebook provides the Python version of the codes."
   ]
  },
  {
   "cell_type": "markdown",
   "metadata": {},
   "source": [
    "This notebook is based on the Exerxise 6. Key words are as follows:\n",
    "- Support vector machine\n",
    "- Decision boundary\n",
    "- Linear classification\n",
    "- C parameter\n",
    "- Gaussian kernels\n",
    "- Spam classification"
   ]
  },
  {
   "cell_type": "markdown",
   "metadata": {},
   "source": [
    "# Support vector machine"
   ]
  },
  {
   "cell_type": "markdown",
   "metadata": {},
   "source": [
    "- About [support vector machine (SVM)](https://scikit-learn.org/stable/modules/svm.html#support-vector-machines) in scikit learn."
   ]
  },
  {
   "cell_type": "markdown",
   "metadata": {},
   "source": [
    "## Data preparation"
   ]
  },
  {
   "cell_type": "markdown",
   "metadata": {},
   "source": [
    "At first, data will be taken from mat files. There are 3 datasets named \"<strong>ex6data1.mat</strong>,\" \"<strong>ex6data2.mat</strong>,\" and \"<strong>ex6data3.mat</strong>.\" In the third dataset (<strong>ex6data3.mat</strong>), cross validation set is also available in addition to the test set. It should be noted that extra feature (x<sub>0</sub> = 1) will not added in the next cell. "
   ]
  },
  {
   "cell_type": "code",
   "execution_count": 1,
   "metadata": {
    "scrolled": true
   },
   "outputs": [
    {
     "name": "stdout",
     "output_type": "stream",
     "text": [
      "dict_keys(['__header__', '__version__', '__globals__', 'X', 'y'])\n",
      "dict_keys(['__header__', '__version__', '__globals__', 'X', 'y'])\n",
      "dict_keys(['__header__', '__version__', '__globals__', 'X', 'y', 'yval', 'Xval'])\n",
      "\n",
      "Data size (X1): (51, 2)\n",
      "Data size (y1): (51, 1)\n",
      "Data size (X2): (863, 2)\n",
      "Data size (y2): (863, 1)\n",
      "Data size (X3): (211, 2)\n",
      "Data size (y3): (211, 1)\n",
      "Data size (X3val): (200, 2)\n",
      "Data size (y3val): (200, 1)\n"
     ]
    }
   ],
   "source": [
    "import numpy as np\n",
    "import os\n",
    "import matplotlib.pyplot as plt\n",
    "from scipy.io import loadmat\n",
    "from sklearn import svm #SVM software\n",
    "\n",
    "path=os.getcwd()\n",
    "datpath1=path + '/ex6data1.mat'\n",
    "datpath2=path + '/ex6data2.mat'\n",
    "datpath3=path + '/ex6data3.mat'\n",
    "\n",
    "#Getting data\n",
    "dat1 = loadmat(datpath1) \n",
    "dat2 = loadmat(datpath2) \n",
    "dat3 = loadmat(datpath3) \n",
    "\n",
    "#Showing keys\n",
    "print(dat1.keys())\n",
    "print(dat2.keys())\n",
    "print(dat3.keys())\n",
    "\n",
    "#Defining data\n",
    "X1=dat1['X']\n",
    "y1=dat1['y']\n",
    "X2=dat2['X']\n",
    "y2=dat2['y']\n",
    "X3=dat3['X']\n",
    "y3=dat3['y']\n",
    "X3val=dat3['Xval']\n",
    "y3val=dat3['yval']\n",
    "\n",
    "# Shapes of data\n",
    "print(\"\\nData size (X1): {}\".format(X1.shape))\n",
    "print(\"Data size (y1): {}\".format(y1.shape))\n",
    "print(\"Data size (X2): {}\".format(X2.shape))\n",
    "print(\"Data size (y2): {}\".format(y2.shape))\n",
    "print(\"Data size (X3): {}\".format(X3.shape))\n",
    "print(\"Data size (y3): {}\".format(y3.shape))\n",
    "print(\"Data size (X3val): {}\".format(X3val.shape))\n",
    "print(\"Data size (y3val): {}\".format(y3val.shape))"
   ]
  },
  {
   "cell_type": "markdown",
   "metadata": {},
   "source": [
    "## Definitions of functions"
   ]
  },
  {
   "cell_type": "markdown",
   "metadata": {},
   "source": [
    "In the next cell, the function <strong>CreateNegPosData</strong> will be defined to seperate input data into positive and negative datasets. The classification is based on the value of y: 0 or 1.  "
   ]
  },
  {
   "cell_type": "code",
   "execution_count": 2,
   "metadata": {},
   "outputs": [],
   "source": [
    "def CreateNegPosData(Xf,yf):\n",
    "# Xf: mf x 2 matrix. yf: mf-dimensional vector including 0 or 1. \n",
    "#Negative (y=0) and positive (y=1) data will be created.\n",
    "\n",
    "    i_neg=0\n",
    "    i_pos=0\n",
    "\n",
    "    mf=yf.shape[0]\n",
    "    pos=yf.nonzero()[0][:] #Find non-zero values for y\n",
    "\n",
    "    X_neg=np.zeros((mf-pos.shape[0],2)) # data with y = 0\n",
    "    X_pos=np.zeros((pos.shape[0],2)) # data with y = 1\n",
    "\n",
    "    for j in range(mf):\n",
    "        if yf[j]==0: #neg (not admitted)\n",
    "            X_neg[i_neg,0]=Xf[j,0]\n",
    "            X_neg[i_neg,1]=Xf[j,1]\n",
    "            i_neg=i_neg+1\n",
    "        elif yf[j]==1:\n",
    "            X_pos[i_pos,0]=Xf[j,0]\n",
    "            X_pos[i_pos,1]=Xf[j,1]\n",
    "            i_pos=i_pos+1       \n",
    "    \n",
    "    return X_neg, X_pos"
   ]
  },
  {
   "cell_type": "markdown",
   "metadata": {},
   "source": [
    "The function <strong>plotBoudary</strong> will be defined to visualize your 2D-data and show the result of the support vector machine.  "
   ]
  },
  {
   "cell_type": "code",
   "execution_count": 3,
   "metadata": {},
   "outputs": [],
   "source": [
    "def plotBoundary(svm_f, Xf_neg, Xf_pos, Xmin_f, Xmax_f, ymin_f, ymax_f):\n",
    "#svm_f: the result of SVM \n",
    "#Xf_neg, post contain m x 2 matrices.\n",
    "#Xmin_f, Xmax_f, ymin_f, ymax_f: Ranges.\n",
    "\n",
    "    xf_boudary = np.linspace(Xmin_f,Xmax_f,100)\n",
    "    yf_boudary = np.linspace(ymin_f,ymax_f,100)\n",
    "    zf_boudary = np.zeros((len(xf_boudary),len(yf_boudary)))\n",
    "    for i in range(len(xf_boudary)):\n",
    "        for j in range(len(yf_boudary)):\n",
    "            zf_boudary[i][j] = float(svm_f.predict(np.array([xf_boudary[i],yf_boudary[j]]).reshape(1,-1)))\n",
    "    zf_boudary = zf_boudary.transpose()\n",
    "\n",
    "    plt.contour( xf_boudary, yf_boudary, zf_boudary,[0.5])\n",
    "    \n",
    "    plt.scatter(Xf_neg[:,0],Xf_neg[:,1],marker='o',color='red',label='Neg') #negative\n",
    "    plt.scatter(Xf_pos[:,0],Xf_pos[:,1],marker='+',color ='black',label='Pos') #positive"
   ]
  },
  {
   "cell_type": "markdown",
   "metadata": {},
   "source": [
    "## Decision boundary"
   ]
  },
  {
   "cell_type": "markdown",
   "metadata": {},
   "source": [
    "### Linear classification"
   ]
  },
  {
   "cell_type": "markdown",
   "metadata": {},
   "source": [
    "In the next cell, SVM will be used to do linear classification. Different values of the parameter C (1 and 100) will be tested. When the parameter C is large, the SVM classifies every single example correctly. However, a decision boundary does not appear to be a natural fit for the data. The parameter C plays a role similar to 1/&lambda;, where &lambda; is the regularization parameter used for logistic regression."
   ]
  },
  {
   "cell_type": "code",
   "execution_count": 4,
   "metadata": {
    "scrolled": false
   },
   "outputs": [
    {
     "data": {
      "image/png": "[encoded data removed]",
      "text/plain": [
       "<Figure size 1008x432 with 2 Axes>"
      ]
     },
     "metadata": {
      "needs_background": "light"
     },
     "output_type": "display_data"
    }
   ],
   "source": [
    "#preparation of the positive and negative data\n",
    "X1_neg, X1_pos = CreateNegPosData(X1,y1)\n",
    "\n",
    "plt.figure(figsize=(14,6))\n",
    "\n",
    "#C=1\n",
    "plt.subplot(121)\n",
    "\n",
    "linear_svmC1 = svm.SVC(C=1, kernel='linear')\n",
    "linear_svmC1.fit( X1, y1.flatten() )\n",
    "\n",
    "plotBoundary(linear_svmC1,X1_neg,X1_pos,0,4.5,1.5,5)\n",
    "plt.title(\"C=1\")\n",
    "plt.xlabel(\"x1\")\n",
    "plt.ylabel(\"x2\")\n",
    "plt.legend()\n",
    "\n",
    "#C=100\n",
    "plt.subplot(122)\n",
    "\n",
    "linear_svmC100 = svm.SVC(C=100, kernel='linear')\n",
    "linear_svmC100.fit( X1, y1.flatten() )\n",
    "\n",
    "plt.title(\"C=100\")\n",
    "plotBoundary(linear_svmC100,X1_neg,X1_pos,0,4.5,1.5,5)\n",
    "plt.xlabel(\"x1\")\n",
    "plt.ylabel(\"x2\")\n",
    "plt.legend()\n",
    "\n",
    "plt.show()"
   ]
  },
  {
   "cell_type": "markdown",
   "metadata": {},
   "source": [
    "### SVM with Gaussian kernels"
   ]
  },
  {
   "cell_type": "markdown",
   "metadata": {},
   "source": [
    "In this part, you will be using SVM to do non-linear classification. In particular, you will adopt SVMs with Gaussian kernels. Other types of kernels are described [here](https://scikit-learn.org/stable/modules/svm.html#kernel-functions)."
   ]
  },
  {
   "cell_type": "markdown",
   "metadata": {},
   "source": [
    "The [radial basis function (RBF) kernel](https://en.wikipedia.org/wiki/Radial_basis_function_kernel) is defined by\n",
    "\n",
    "$$\n",
    "K(x,x')=exp\\left(-\\frac{||x-x'||^{2}}{2\\sigma^{2}}\\right)=exp\\left(-\\gamma||x-x'||^{2}\\right)\n",
    "$$\n",
    "\n",
    "Here, ||x-x'||<sup>2</sup> is the squared Euclidean distance between the two feature vectors, x and x'. &sigma; is a free parameter that determines the width of the Gaussian function. \n",
    "\n",
    "You can think of this Gaussian kernel as a similarity function that measures the distance between a pair of examples. "
   ]
  },
  {
   "cell_type": "code",
   "execution_count": 7,
   "metadata": {},
   "outputs": [
    {
     "data": {
      "image/png": "[encoded data removed]",
      "text/plain": [
       "<Figure size 576x432 with 1 Axes>"
      ]
     },
     "metadata": {
      "needs_background": "light"
     },
     "output_type": "display_data"
    }
   ],
   "source": [
    "X2_neg, X2_pos = CreateNegPosData(X2,y2)\n",
    "\n",
    "sigma = 0.1\n",
    "gauss_gamma = 0.5/sigma/sigma\n",
    "gauss_svm = svm.SVC(C=1, kernel='rbf', gamma=gauss_gamma)\n",
    "gauss_svm.fit( X2, y2.flatten() )\n",
    "\n",
    "plt.figure(figsize=(8,6))\n",
    "plotBoundary(gauss_svm,X2_neg,X2_pos,0,1.0,0.4,1.0)\n",
    "plt.title(\"Decision boundary\")\n",
    "plt.xlabel(\"x1\")\n",
    "plt.ylabel(\"x2\")\n",
    "plt.legend()\n",
    "plt.show()"
   ]
  },
  {
   "cell_type": "markdown",
   "metadata": {},
   "source": [
    "In the next cell, various values for the parameter C and &sigma; will be used to obtain the best parameters that give the highest score. The cross validation set will be used to do this. The best parameter might be changed if you changed <strong>num_dat</strong> in the next cell. However, decision boundarys will look similar. "
   ]
  },
  {
   "cell_type": "code",
   "execution_count": 8,
   "metadata": {},
   "outputs": [
    {
     "name": "stdout",
     "output_type": "stream",
     "text": [
      "Best parameters:\n",
      "    C=0.68, sigma=0.14\n",
      "    score=0.965\n"
     ]
    }
   ],
   "source": [
    "X3_neg, X3_pos = CreateNegPosData(X3,y3)\n",
    "\n",
    "min_calc=0.01\n",
    "max_calc=20\n",
    "num_dat=150\n",
    "\n",
    "Cj_list=np.linspace(min_calc,max_calc,num_dat)\n",
    "score_model=np.zeros((num_dat,num_dat))\n",
    "\n",
    "highest_score=0\n",
    "best_param=np.zeros(2)\n",
    "\n",
    "for i in range(num_dat): #for Cj\n",
    "    for j in range(num_dat): # for sigma\n",
    "        sigma = Cj_list[j]\n",
    "        gauss_svm = svm.SVC(C=Cj_list[i], kernel='rbf', gamma= 1/sigma/sigma)\n",
    "        gauss_svm.fit( X3, y3.flatten() )\n",
    "    \n",
    "        score_model[i, j] = gauss_svm.score(X3val,y3val)\n",
    "        if highest_score < score_model[i,j]:\n",
    "            highest_score = score_model[i,j]\n",
    "            best_param = [Cj_list[i],Cj_list[j]] #C, sigma\n",
    "\n",
    "print(\"Best parameters:\\n    C=%0.2f, sigma=%0.2f\\n    score=%0.3f\"%(best_param[0],best_param[1],highest_score))"
   ]
  },
  {
   "cell_type": "markdown",
   "metadata": {},
   "source": [
    "The dependence of the score on the parameters will be shown as a 2D-map. The best parameter is indicated by a large red circle."
   ]
  },
  {
   "cell_type": "code",
   "execution_count": 9,
   "metadata": {},
   "outputs": [
    {
     "data": {
      "image/png": "[encoded data removed]",
      "text/plain": [
       "<Figure size 432x288 with 2 Axes>"
      ]
     },
     "metadata": {
      "needs_background": "light"
     },
     "output_type": "display_data"
    }
   ],
   "source": [
    "plt.pcolor(Cj_list,Cj_list,score_model.T,cmap='viridis')\n",
    "plt.xlabel(\"C\")\n",
    "plt.ylabel(\"Sigma\")\n",
    "plt.title(\"Score\")\n",
    "plt.colorbar()\n",
    "plt.plot(best_param[0],best_param[1],marker='o',color='red',markersize=8)\n",
    "plt.show()"
   ]
  },
  {
   "cell_type": "markdown",
   "metadata": {},
   "source": [
    "Decision boundary will be drawn using the best parameters for SVM. "
   ]
  },
  {
   "cell_type": "code",
   "execution_count": 10,
   "metadata": {},
   "outputs": [
    {
     "data": {
      "image/png": "[encoded data removed]",
      "text/plain": [
       "<Figure size 576x432 with 1 Axes>"
      ]
     },
     "metadata": {
      "needs_background": "light"
     },
     "output_type": "display_data"
    }
   ],
   "source": [
    "sigma = best_param[1]\n",
    "gauss_gamma = 1/sigma/sigma\n",
    "gauss_svm = svm.SVC(C=best_param[0], kernel='rbf', gamma=gauss_gamma)\n",
    "gauss_svm.fit( X3, y3.flatten() )\n",
    "\n",
    "plt.figure(figsize=(8,6))\n",
    "plotBoundary(gauss_svm,X3_neg,X3_pos,-0.5,0.3,-0.7,0.6)\n",
    "plt.title(\"C=%0.2f sigma=%0.2f score=%0.3f\"%(best_param[0],best_param[1],highest_score))\n",
    "plt.xlabel(\"x1\")\n",
    "plt.ylabel(\"x2\")\n",
    "plt.legend()\n",
    "plt.show()"
   ]
  },
  {
   "cell_type": "markdown",
   "metadata": {},
   "source": [
    "# Spam classification"
   ]
  },
  {
   "cell_type": "markdown",
   "metadata": {},
   "source": [
    "In this part, the support vector machine is used to buid a spam filter. "
   ]
  },
  {
   "cell_type": "markdown",
   "metadata": {},
   "source": [
    "## Data preparation and normalization"
   ]
  },
  {
   "cell_type": "markdown",
   "metadata": {},
   "source": [
    "A sample e-mail will be obtained and shown."
   ]
  },
  {
   "cell_type": "code",
   "execution_count": 11,
   "metadata": {},
   "outputs": [
    {
     "name": "stdout",
     "output_type": "stream",
     "text": [
      "> Anyone knows how much it costs to host a web portal ?\n",
      ">\n",
      "Well, it depends on how many visitors you're expecting.\n",
      "This can be anywhere from less than 10 bucks a month to a couple of $100. \n",
      "You should checkout http://www.rackspace.com/ or perhaps Amazon EC2 \n",
      "if youre running something big..\n",
      "\n",
      "To unsubscribe yourself from this mailing list, send an email to:\n",
      "groupname-unsubscribe@egroups.com\n",
      "\n",
      "\n"
     ]
    }
   ],
   "source": [
    "import re\n",
    "\n",
    "path=os.getcwd()\n",
    "datpath=path + '/emailSample1.txt'\n",
    "\n",
    "with open(datpath) as f:\n",
    "    email=f.read()\n",
    "print(email)"
   ]
  },
  {
   "cell_type": "markdown",
   "metadata": {},
   "source": [
    "In the next cell, the function <strong>processEmail</strong> is defined. This function does the following email preprocessing and normalization steps:\n",
    "\n",
    "1. Lower-casing: The entire e-mail is converted into lower case. Capitalization is ignored.\n",
    "2. Stripping HTML: All HTML tags are removed from the emails.\n",
    "3. Normalizing URLs: All URLs are replaced by the text \"httpaddr.\"\n",
    "4. Omitting \"\\n\"\n",
    "5. Replacing dollar signs $ by the word \"dollar.\"\n",
    "6. Replacing numbers: All numbers are replaced by the text \"number.\"\n",
    "7. Replacing email address: All e-mail addresses are replaced by the text \"emailaddr.\"\n",
    "8. Removal of non-words: All signs, symbols, and punctuation are removed.\n",
    "9. Word stemming: Words are reduced to their stemmed form. For example, \"discount,\" \"discounts,\" \"discounted,\" and \"discounting\" are all replaced with \"discount.\""
   ]
  },
  {
   "cell_type": "code",
   "execution_count": 12,
   "metadata": {},
   "outputs": [],
   "source": [
    "def processEmail(email_f):\n",
    "    #Lower-casing\n",
    "    email_f=email_f.lower()\n",
    "\n",
    "    #Replacing URLs by \"httpaddr\"\n",
    "    urls_f = re.findall('https?://(?:[-\\w.]|(?:%[\\da-fA-F]{2}))+', email_f)\n",
    "    n_url=len(urls_f)\n",
    "    for j in range(n_url):\n",
    "        email_f=re.sub(urls_f[j], 'httpaddr', email_f)\n",
    "\n",
    "    #Omit \\n\n",
    "    email_f=email_f.replace('\\n', ' ')\n",
    "\n",
    "    #Replacing dollar signs\n",
    "    email_f=email_f.replace('$', 'dollar')\n",
    "\n",
    "    #Replacing numbers by the word \"number\"\n",
    "    email_f=re.sub('[0-9]+','number', email_f)\n",
    "\n",
    "    #Replacing e-mail addresses by the word \"emailaddr\"\n",
    "    email_f = re.sub('[^\\s]+@[^\\s]+','emailaddr ', email_f)\n",
    "\n",
    "    #Removing unnecessary spaces and various symbols.\n",
    "    email_f = email_f.replace(\"'\",\" \")\n",
    "    email_f = email_f.replace(\"-\",\" \")\n",
    "    email_f = re.split('[ @$/#.-:&*+=\\[\\]?!(){},\">_<;%\\n\\r]', email_f)\n",
    "\n",
    "    email_f= [word for word in email_f if len(word) > 0]\n",
    "\n",
    "    #Word stemming\n",
    "    from nltk.stem.porter import PorterStemmer\n",
    "    for j in range(len(email_f)):\n",
    "        email_f[j]=PorterStemmer().stem(email_f[j])\n",
    "    \n",
    "    return email_f"
   ]
  },
  {
   "cell_type": "markdown",
   "metadata": {},
   "source": [
    "E-mail is preprocessed and shown below."
   ]
  },
  {
   "cell_type": "code",
   "execution_count": 13,
   "metadata": {},
   "outputs": [
    {
     "name": "stdout",
     "output_type": "stream",
     "text": [
      "['anyon', 'know', 'how', 'much', 'it', 'cost', 'to', 'host', 'a', 'web', 'portal', 'well', 'it', 'depend', 'on', 'how', 'mani', 'visitor', 'you', 're', 'expect', 'thi', 'can', 'be', 'anywher', 'from', 'less', 'than', 'number', 'buck', 'a', 'month', 'to', 'a', 'coupl', 'of', 'dollarnumb', 'you', 'should', 'checkout', 'httpaddr', 'or', 'perhap', 'amazon', 'ecnumb', 'if', 'your', 'run', 'someth', 'big', 'to', 'unsubscrib', 'yourself', 'from', 'thi', 'mail', 'list', 'send', 'an', 'email', 'to', 'emailaddr']\n"
     ]
    }
   ],
   "source": [
    "email=processEmail(email)\n",
    "print(email)"
   ]
  },
  {
   "cell_type": "markdown",
   "metadata": {},
   "source": [
    "A vocabulary list is taken from the text file \"<strong>vocab.txt</strong>.\" This vocabulary list was made by choosing all words which occur at least 100 times in the spam corpus. In practice, the number of words contained in a vocabulary list is about 10000 to 50000."
   ]
  },
  {
   "cell_type": "code",
   "execution_count": 14,
   "metadata": {},
   "outputs": [
    {
     "name": "stdout",
     "output_type": "stream",
     "text": [
      "The number of words in our vocabulary list is 1899\n"
     ]
    }
   ],
   "source": [
    "path=os.getcwd()\n",
    "datpath=path + '/vocab.txt'\n",
    "\n",
    "with open(datpath) as f:\n",
    "    vocab_list=f.readlines()\n",
    "\n",
    "n_vocab=len(vocab_list)\n",
    "\n",
    "for j in range(n_vocab):\n",
    "    # Removing \\n\n",
    "    vocab_list[j]=vocab_list[j].rstrip(\"\\n\")\n",
    "\n",
    "    # Removing numbers\n",
    "    vocab_list[j]=re.sub('[0-9]+','',vocab_list[j])\n",
    "    \n",
    "    # Removing \\t\n",
    "    vocab_list[j]=vocab_list[j].lstrip(\"\\t\")\n",
    "    \n",
    "print(\"The number of words in our vocabulary list is %d\"%len(vocab_list))"
   ]
  },
  {
   "cell_type": "markdown",
   "metadata": {},
   "source": [
    "The sample e-mail will be compared with the vocabulary list.  By doing so, a list of word indices that contains the index of the word in the vocabulary list will be created. If a word does not exist in the vocabulary list, it is skipped. "
   ]
  },
  {
   "cell_type": "code",
   "execution_count": 15,
   "metadata": {},
   "outputs": [
    {
     "name": "stdout",
     "output_type": "stream",
     "text": [
      "Index | processed word\n",
      "86 | anyon\n",
      "916 | know\n",
      "794 | how\n",
      "1077 | much\n",
      "883 | it\n",
      "370 | cost\n",
      "1699 | to\n",
      "790 | host\n",
      "1822 | web\n",
      "1831 | well\n",
      "883 | it\n",
      "431 | depend\n",
      "1171 | on\n",
      "794 | how\n",
      "1002 | mani\n",
      "1893 | you\n",
      "1364 | re\n",
      "592 | expect\n",
      "1676 | thi\n",
      "238 | can\n",
      "162 | be\n",
      "89 | anywher\n",
      "688 | from\n",
      "945 | less\n",
      "1663 | than\n",
      "1120 | number\n",
      "1062 | month\n",
      "1699 | to\n",
      "375 | coupl\n",
      "1162 | of\n",
      "479 | dollarnumb\n",
      "1893 | you\n",
      "1510 | should\n",
      "799 | httpaddr\n",
      "1182 | or\n",
      "1237 | perhap\n",
      "810 | if\n",
      "1895 | your\n",
      "1440 | run\n",
      "1547 | someth\n",
      "181 | big\n",
      "1699 | to\n",
      "1758 | unsubscrib\n",
      "1896 | yourself\n",
      "688 | from\n",
      "1676 | thi\n",
      "992 | mail\n",
      "961 | list\n",
      "1477 | send\n",
      "71 | an\n",
      "530 | email\n",
      "1699 | to\n",
      "531 | emailaddr\n"
     ]
    }
   ],
   "source": [
    "print(\"Index | processed word\")\n",
    "for j in range(len(email)):\n",
    "    if  (email[j] in vocab_list) == True:\n",
    "        v=vocab_list.index(email[j])\n",
    "        print(\"%d | %s\"%(v+1,email[j]))"
   ]
  },
  {
   "cell_type": "markdown",
   "metadata": {},
   "source": [
    "In the previous cell, indices for the words in the e-imail were shown. In the next cell, a funciton for creating a feature vector will be defined. With this function each email can be converted into a vector whose number of the components is the same as that of words in the vocabulary list. The components of this vector have the value of 0 or 1. If the j-th word is included in the email, x<sub>j</sub>=1. If not, x<sub>j</sub>=0.  "
   ]
  },
  {
   "cell_type": "code",
   "execution_count": 16,
   "metadata": {},
   "outputs": [],
   "source": [
    "def emailFeatures(email_f,vocab_list_f):\n",
    "    word_indices= [vocab_list_f.index(email_f[j])+1 for j in range(len(email_f)) if (email_f[j] in vocab_list_f) == True]\n",
    "\n",
    "    n_vocab_f=len(vocab_list_f)\n",
    "    xfeature_f = np.zeros(n_vocab)\n",
    "\n",
    "    n_word_indices=len(word_indices)\n",
    "\n",
    "    for j in range(n_word_indices):    \n",
    "        xfeature_f[word_indices[j]-1]=1.\n",
    "    #For example, xfeature[10] =1 means word_indices[j]=11\n",
    "\n",
    "    return xfeature_f"
   ]
  },
  {
   "cell_type": "code",
   "execution_count": 17,
   "metadata": {},
   "outputs": [
    {
     "name": "stdout",
     "output_type": "stream",
     "text": [
      "The feature vector has the length of 1899 and 45 non-zero components.\n"
     ]
    }
   ],
   "source": [
    "xfeature=emailFeatures(email,vocab_list)\n",
    "print(\"The feature vector has the length of %d and %d non-zero components.\"%(xfeature.shape[0],np.count_nonzero(xfeature)))"
   ]
  },
  {
   "cell_type": "markdown",
   "metadata": {},
   "source": [
    "## Training SVM for spam classification"
   ]
  },
  {
   "cell_type": "markdown",
   "metadata": {},
   "source": [
    "In order to train a SVM classifier, training and test sets will be prepared. X is m x n matrix, where m is the number of training/test dataset (4000/1000) and n is the number of features (1899)."
   ]
  },
  {
   "cell_type": "code",
   "execution_count": 18,
   "metadata": {},
   "outputs": [
    {
     "name": "stdout",
     "output_type": "stream",
     "text": [
      "Training set: dict_keys(['__header__', '__version__', '__globals__', 'X', 'y'])\n",
      "Test set: dict_keys(['__header__', '__version__', '__globals__', 'Xtest', 'ytest'])\n",
      "Data size of Xspam_train: (4000, 1899)\n",
      "Data size of yspam_train: (4000, 1)\n",
      "Data size of Xspam_test: (1000, 1899)\n",
      "Data size of yspam_test: (1000, 1)\n"
     ]
    }
   ],
   "source": [
    "path=os.getcwd()\n",
    "datpath_train=path + '/spamTrain.mat'\n",
    "datpath_test=path + '/spamTest.mat'\n",
    "\n",
    "#Getting data\n",
    "dat_spam_train = loadmat(datpath_train) \n",
    "dat_spam_test = loadmat(datpath_test) \n",
    "\n",
    "#Showing keys\n",
    "print(\"Training set:\",dat_spam_train.keys())\n",
    "print(\"Test set:\",dat_spam_test.keys())\n",
    "\n",
    "Xspam_train, yspam_train = dat_spam_train['X'], dat_spam_train['y']\n",
    "Xspam_test, yspam_test = dat_spam_test['Xtest'], dat_spam_test['ytest']\n",
    "\n",
    "print(\"Data size of Xspam_train:\",Xspam_train.shape)\n",
    "print(\"Data size of yspam_train:\",yspam_train.shape)\n",
    "print(\"Data size of Xspam_test:\",Xspam_test.shape)\n",
    "print(\"Data size of yspam_test:\",yspam_test.shape)"
   ]
  },
  {
   "cell_type": "markdown",
   "metadata": {},
   "source": [
    "Our SVM classifier will be trained. The training and test accuracies will be shown."
   ]
  },
  {
   "cell_type": "code",
   "execution_count": 19,
   "metadata": {},
   "outputs": [
    {
     "name": "stdout",
     "output_type": "stream",
     "text": [
      "Training accuracy: 0.998 (expected value is 0.998 for C=0.1)\n",
      "Test accuracy: 0.989 (expected value is 0.989 for C=0.1)\n"
     ]
    }
   ],
   "source": [
    "linear_svm = svm.SVC(C=0.1, kernel='linear')\n",
    "linear_svm.fit( Xspam_train, yspam_train.flatten() )\n",
    "\n",
    "score_train = linear_svm.score(Xspam_train,yspam_train)\n",
    "score_test = linear_svm.score(Xspam_test,yspam_test)\n",
    "\n",
    "print(\"Training accuracy: %0.3f (expected value is 0.998 for C=0.1)\"%score_train)\n",
    "print(\"Test accuracy: %0.3f (expected value is 0.989 for C=0.1)\"%score_test)"
   ]
  },
  {
   "cell_type": "markdown",
   "metadata": {},
   "source": [
    "Finally, using the trained SVM, our sample e-mail will be checked whether it is a spam or not."
   ]
  },
  {
   "cell_type": "code",
   "execution_count": 20,
   "metadata": {},
   "outputs": [
    {
     "name": "stdout",
     "output_type": "stream",
     "text": [
      "Your sample E-mail is not a spam.\n"
     ]
    }
   ],
   "source": [
    "if linear_svm.predict(xfeature.reshape(-1,1).T)[0] == 0:\n",
    "    print(\"Your sample E-mail is not a spam.\")\n",
    "elif linear_svm.predict(xfeature.reshape(-1,1).T)[0] ==1:\n",
    "    print(\"Your sample E-mail is a spam.\")"
   ]
  },
  {
   "cell_type": "markdown",
   "metadata": {},
   "source": [
    "## More tests on other E-mail samples"
   ]
  },
  {
   "cell_type": "markdown",
   "metadata": {},
   "source": [
    "### emailSample2.txt"
   ]
  },
  {
   "cell_type": "code",
   "execution_count": 21,
   "metadata": {},
   "outputs": [
    {
     "name": "stdout",
     "output_type": "stream",
     "text": [
      "Folks,\n",
      " \n",
      "my first time posting - have a bit of Unix experience, but am new to Linux.\n",
      "\n",
      " \n",
      "Just got a new PC at home - Dell box with Windows XP. Added a second hard disk\n",
      "for Linux. Partitioned the disk and have installed Suse 7.2 from CD, which went\n",
      "fine except it didn't pick up my monitor.\n",
      " \n",
      "I have a Dell branded E151FPp 15\" LCD flat panel monitor and a nVidia GeForce4\n",
      "Ti4200 video card, both of which are probably too new to feature in Suse's default\n",
      "set. I downloaded a driver from the nVidia website and installed it using RPM.\n",
      "Then I ran Sax2 (as was recommended in some postings I found on the net), but\n",
      "it still doesn't feature my video card in the available list. What next?\n",
      " \n",
      "Another problem. I have a Dell branded keyboard and if I hit Caps-Lock twice,\n",
      "the whole machine crashes (in Linux, not Windows) - even the on/off switch is\n",
      "inactive, leaving me to reach for the power cable instead.\n",
      " \n",
      "If anyone can help me in any way with these probs., I'd be really grateful -\n",
      "I've searched the 'net but have run out of ideas.\n",
      " \n",
      "Or should I be going for a different version of Linux such as RedHat? Opinions\n",
      "welcome.\n",
      " \n",
      "Thanks a lot,\n",
      "Peter\n",
      "\n",
      "-- \n",
      "Irish Linux Users' Group: ilug@linux.ie\n",
      "http://www.linux.ie/mailman/listinfo/ilug for (un)subscription information.\n",
      "List maintainer: listmaster@linux.ie\n",
      "\n",
      "\n",
      "\n"
     ]
    }
   ],
   "source": [
    "path=os.getcwd()\n",
    "datpath=path + '/emailSample2.txt'\n",
    "\n",
    "#Get a sample e-mail\n",
    "with open(datpath) as f:\n",
    "    email2=f.read()\n",
    "print(email2)"
   ]
  },
  {
   "cell_type": "code",
   "execution_count": 22,
   "metadata": {},
   "outputs": [
    {
     "name": "stdout",
     "output_type": "stream",
     "text": [
      "['folk', 'my', 'first', 'time', 'post', 'have', 'a', 'bit', 'of', 'unix', 'experi', 'but', 'am', 'new', 'to', 'linux', 'just', 'got', 'a', 'new', 'pc', 'at', 'home', 'dell', 'box', 'with', 'window', 'xp', 'ad', 'a', 'second', 'hard', 'disk', 'for', 'linux', 'partit', 'the', 'disk', 'and', 'have', 'instal', 'suse', 'number', 'number', 'from', 'cd', 'which', 'went', 'fine', 'except', 'it', 'didn', 't', 'pick', 'up', 'my', 'monitor', 'i', 'have', 'a', 'dell', 'brand', 'enumberfpp', 'number', 'lcd', 'flat', 'panel', 'monitor', 'and', 'a', 'nvidia', 'geforcenumb', 'tinumb', 'video', 'card', 'both', 'of', 'which', 'are', 'probabl', 'too', 'new', 'to', 'featur', 'in', 'suse', 's', 'default', 'set', 'i', 'download', 'a', 'driver', 'from', 'the', 'nvidia', 'websit', 'and', 'instal', 'it', 'use', 'rpm', 'then', 'i', 'ran', 'saxnumb', 'as', 'wa', 'recommend', 'in', 'some', 'post', 'i', 'found', 'on', 'the', 'net', 'but', 'it', 'still', 'doesn', 't', 'featur', 'my', 'video', 'card', 'in', 'the', 'avail', 'list', 'what', 'next', 'anoth', 'problem', 'i', 'have', 'a', 'dell', 'brand', 'keyboard', 'and', 'if', 'i', 'hit', 'cap', 'lock', 'twice', 'the', 'whole', 'machin', 'crash', 'in', 'linux', 'not', 'window', 'even', 'the', 'on', 'off', 'switch', 'is', 'inact', 'leav', 'me', 'to', 'reach', 'for', 'the', 'power', 'cabl', 'instead', 'if', 'anyon', 'can', 'help', 'me', 'in', 'ani', 'way', 'with', 'these', 'prob', 'i', 'd', 'be', 'realli', 'grate', 'i', 've', 'search', 'the', 'net', 'but', 'have', 'run', 'out', 'of', 'idea', 'or', 'should', 'i', 'be', 'go', 'for', 'a', 'differ', 'version', 'of', 'linux', 'such', 'as', 'redhat', 'opinion', 'welcom', 'thank', 'a', 'lot', 'peter', 'irish', 'linux', 'user', 'group', 'emailaddr', 'httpaddr', 'mailman', 'listinfo', 'ilug', 'for', 'un', 'subscript', 'inform', 'list', 'maintain', 'emailaddr']\n"
     ]
    }
   ],
   "source": [
    "email2=processEmail(email2)\n",
    "print(email2)"
   ]
  },
  {
   "cell_type": "code",
   "execution_count": 23,
   "metadata": {},
   "outputs": [
    {
     "name": "stdout",
     "output_type": "stream",
     "text": [
      "Your sample E-mail is not a spam.\n"
     ]
    }
   ],
   "source": [
    "xfeature2=emailFeatures(email2,vocab_list)\n",
    "\n",
    "if linear_svm.predict(xfeature2.reshape(-1,1).T)[0] == 0:\n",
    "    print(\"Your sample E-mail is not a spam.\")\n",
    "elif linear_svm.predict(xfeature2.reshape(-1,1).T)[0] ==1:\n",
    "    print(\"Your sample E-mail is a spam.\")"
   ]
  },
  {
   "cell_type": "markdown",
   "metadata": {},
   "source": [
    "### spamSample1.txt"
   ]
  },
  {
   "cell_type": "code",
   "execution_count": 24,
   "metadata": {},
   "outputs": [
    {
     "name": "stdout",
     "output_type": "stream",
     "text": [
      "Do You Want To Make $1000 Or More Per Week?\n",
      "\n",
      " \n",
      "\n",
      "If you are a motivated and qualified individual - I \n",
      "will personally demonstrate to you a system that will \n",
      "make you $1,000 per week or more! This is NOT mlm.\n",
      "\n",
      " \n",
      "\n",
      "Call our 24 hour pre-recorded number to get the \n",
      "details.  \n",
      "\n",
      " \n",
      "\n",
      "000-456-789\n",
      "\n",
      " \n",
      "\n",
      "I need people who want to make serious money.  Make \n",
      "the call and get the facts. \n",
      "\n",
      "Invest 2 minutes in yourself now!\n",
      "\n",
      " \n",
      "\n",
      "000-456-789\n",
      "\n",
      " \n",
      "\n",
      "Looking forward to your call and I will introduce you \n",
      "to people like yourself who\n",
      "are currently making $10,000 plus per week!\n",
      "\n",
      " \n",
      "\n",
      "000-456-789\n",
      "\n",
      "\n",
      "\n",
      "3484lJGv6-241lEaN9080lRmS6-271WxHo7524qiyT5-438rjUv5615hQcf0-662eiDB9057dMtVl72\n",
      "\n",
      "\n"
     ]
    }
   ],
   "source": [
    "path=os.getcwd()\n",
    "datpath=path + '/spamSample1.txt'\n",
    "\n",
    "#Get a sample e-mail\n",
    "with open(datpath) as f:\n",
    "    email3=f.read()\n",
    "print(email3)"
   ]
  },
  {
   "cell_type": "code",
   "execution_count": 25,
   "metadata": {},
   "outputs": [
    {
     "name": "stdout",
     "output_type": "stream",
     "text": [
      "['do', 'you', 'want', 'to', 'make', 'dollarnumb', 'or', 'more', 'per', 'week', 'if', 'you', 'are', 'a', 'motiv', 'and', 'qualifi', 'individu', 'i', 'will', 'person', 'demonstr', 'to', 'you', 'a', 'system', 'that', 'will', 'make', 'you', 'dollarnumb', 'number', 'per', 'week', 'or', 'more', 'thi', 'is', 'not', 'mlm', 'call', 'our', 'number', 'hour', 'pre', 'record', 'number', 'to', 'get', 'the', 'detail', 'number', 'number', 'number', 'i', 'need', 'peopl', 'who', 'want', 'to', 'make', 'seriou', 'money', 'make', 'the', 'call', 'and', 'get', 'the', 'fact', 'invest', 'number', 'minut', 'in', 'yourself', 'now', 'number', 'number', 'number', 'look', 'forward', 'to', 'your', 'call', 'and', 'i', 'will', 'introduc', 'you', 'to', 'peopl', 'like', 'yourself', 'who', 'are', 'current', 'make', 'dollarnumb', 'number', 'plu', 'per', 'week', 'number', 'number', 'number', 'numberljgvnumb', 'numberleannumberlrmsnumb', 'numberwxhonumberqiytnumb', 'numberrjuvnumberhqcfnumb', 'numbereidbnumberdmtvlnumb']\n"
     ]
    }
   ],
   "source": [
    "email3=processEmail(email3)\n",
    "print(email3)"
   ]
  },
  {
   "cell_type": "code",
   "execution_count": 26,
   "metadata": {},
   "outputs": [
    {
     "name": "stdout",
     "output_type": "stream",
     "text": [
      "Your sample E-mail is a spam.\n"
     ]
    }
   ],
   "source": [
    "xfeature3=emailFeatures(email3,vocab_list)\n",
    "\n",
    "if linear_svm.predict(xfeature3.reshape(-1,1).T)[0] == 0:\n",
    "    print(\"Your sample E-mail is not a spam.\")\n",
    "elif linear_svm.predict(xfeature3.reshape(-1,1).T)[0] ==1:\n",
    "    print(\"Your sample E-mail is a spam.\")"
   ]
  },
  {
   "cell_type": "markdown",
   "metadata": {},
   "source": [
    "### spamSample2.txt"
   ]
  },
  {
   "cell_type": "code",
   "execution_count": 27,
   "metadata": {},
   "outputs": [
    {
     "name": "stdout",
     "output_type": "stream",
     "text": [
      "Best Buy Viagra Generic Online\n",
      "\n",
      "Viagra 100mg x 60 Pills $125, Free Pills & Reorder Discount, Top Selling 100% Quality & Satisfaction guaranteed!\n",
      "\n",
      "We accept VISA, Master & E-Check Payments, 90000+ Satisfied Customers!\n",
      "http://medphysitcstech.ru\n",
      "\n",
      "\n",
      "\n"
     ]
    }
   ],
   "source": [
    "path=os.getcwd()\n",
    "datpath=path + '/spamSample2.txt'\n",
    "\n",
    "#Get a sample e-mail\n",
    "with open(datpath) as f:\n",
    "    email4=f.read()\n",
    "print(email4)"
   ]
  },
  {
   "cell_type": "code",
   "execution_count": 28,
   "metadata": {},
   "outputs": [
    {
     "name": "stdout",
     "output_type": "stream",
     "text": [
      "['best', 'buy', 'viagra', 'gener', 'onlin', 'viagra', 'numbermg', 'x', 'number', 'pill', 'dollarnumb', 'free', 'pill', 'reorder', 'discount', 'top', 'sell', 'number', 'qualiti', 'satisfact', 'guarante', 'we', 'accept', 'visa', 'master', 'e', 'check', 'payment', 'number', 'satisfi', 'custom', 'httpaddr']\n"
     ]
    }
   ],
   "source": [
    "email4=processEmail(email4)\n",
    "print(email4)"
   ]
  },
  {
   "cell_type": "code",
   "execution_count": 29,
   "metadata": {},
   "outputs": [
    {
     "name": "stdout",
     "output_type": "stream",
     "text": [
      "Your sample E-mail is a spam.\n"
     ]
    }
   ],
   "source": [
    "xfeature4=emailFeatures(email4,vocab_list)\n",
    "\n",
    "if linear_svm.predict(xfeature4.reshape(-1,1).T)[0] == 0:\n",
    "    print(\"Your sample E-mail is not a spam.\")\n",
    "elif linear_svm.predict(xfeature4.reshape(-1,1).T)[0] ==1:\n",
    "    print(\"Your sample E-mail is a spam.\")"
   ]
  },
  {
   "cell_type": "code",
   "execution_count": null,
   "metadata": {},
   "outputs": [],
   "source": []
  }
 ],
 "metadata": {
  "kernelspec": {
   "display_name": "Python 3",
   "language": "python",
   "name": "python3"
  },
  "language_info": {
   "codemirror_mode": {
    "name": "ipython",
    "version": 3
   },
   "file_extension": ".py",
   "mimetype": "text/x-python",
   "name": "python",
   "nbconvert_exporter": "python",
   "pygments_lexer": "ipython3",
   "version": "3.7.1"
  },
  "toc": {
   "base_numbering": 1,
   "nav_menu": {},
   "number_sections": true,
   "sideBar": true,
   "skip_h1_title": false,
   "title_cell": "Table of Contents",
   "title_sidebar": "Contents",
   "toc_cell": false,
   "toc_position": {
    "height": "calc(100% - 180px)",
    "left": "10px",
    "top": "150px",
    "width": "222.59375px"
   },
   "toc_section_display": true,
   "toc_window_display": true
  }
 },
 "nbformat": 4,
 "nbformat_minor": 2
}
