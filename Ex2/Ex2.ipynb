{
 "cells": [
  {
   "cell_type": "markdown",
   "metadata": {},
   "source": [
    "# About this notebook"
   ]
  },
  {
   "cell_type": "markdown",
   "metadata": {},
   "source": [
    "This notebook is based on Coursera's course \"Machine learning\" by Prof. Andrew Ng from Stanford University. In this course, all codes are written in Octave or Matlab. This notebook provides the Python version of the codes."
   ]
  },
  {
   "cell_type": "markdown",
   "metadata": {},
   "source": [
    "This notebook is based on the Exerxise 2. Key words are as follows:\n",
    "- Logistic regression\n",
    "- Regularized logistic regression\n",
    "- Feature mapping"
   ]
  },
  {
   "cell_type": "markdown",
   "metadata": {},
   "source": [
    "# Logistic regression"
   ]
  },
  {
   "cell_type": "markdown",
   "metadata": {},
   "source": [
    "In this part, you will build a logistic regression model to predict whether a student gets admitted into a university. "
   ]
  },
  {
   "cell_type": "markdown",
   "metadata": {},
   "source": [
    "## Preparation of data"
   ]
  },
  {
   "cell_type": "markdown",
   "metadata": {},
   "source": [
    "The prediction whether students are allowed to enroll into a universition is based on their results of two exams. As a training dataset for logistic regression, historical data from previous applicantas are given in the file \"<strong>ex2data1.txt</strong>.\" For each training example, the scores of two exams and the admissions decision (0 or 1) are given. The number of the training sample is m."
   ]
  },
  {
   "cell_type": "markdown",
   "metadata": {},
   "source": [
    "Let us prepare training dataset. In the file \"ex2data1.txt,\" there are three columns. Data in this file are obtained as the matrix \"dat.\" The first and second columns are scores of the first and second exams, respectively. The third column represents for the results. The numbers 0 and 1 in the third column of the matrix \"dat\" represent the negative and positive results, respectively. In the data preparation process, the following matrices and vector are obtained:\n",
    "\n",
    "$$\n",
    "    \\mathbf{dat} =\n",
    "        \\left[\\begin{array}{c}\n",
    "            x_1^{(1)} & x_2^{(1)} & y^{(1)}\\\\\n",
    "            x_1^{(2)} & x_2^{(2)} & y^{(2)}\\\\\n",
    "            \\vdots & \\vdots \\\\            \n",
    "            x_1^{(m)} & x_2^{(m)} & y^{(m)}\\\\\n",
    "        \\end{array}\\right] \\quad\n",
    "    \\boldsymbol{X_0} =\n",
    "        \\left[\\begin{array}{c}\n",
    "            x_1^{(1)}& x_2^{(1)} \\\\\n",
    "            x_1^{(2)}& x_2^{(2)} \\\\\n",
    "            \\vdots \\\\            \n",
    "            x_1^{(m)} & x_2^{(m)}\\\\\n",
    "        \\end{array}\\right] \\quad\n",
    "    \\boldsymbol{y} =\n",
    "        \\left[\\begin{array}{c}\n",
    "            y^{(1)} \\\\\n",
    "            y^{(2)} \\\\\n",
    "            \\vdots \\\\            \n",
    "            y^{(m)} \\\\\n",
    "        \\end{array}\\right] \\quad\n",
    "$$"
   ]
  },
  {
   "cell_type": "markdown",
   "metadata": {},
   "source": [
    "A new column consisting of 1 is added to the first column of the matrix X<sub>0</sub> to form a new matrix X.\n",
    "\n",
    "$$\n",
    "    \\boldsymbol{X} =\n",
    "        \\left[\\begin{array}{c}\n",
    "            x_0^{(1)} & x_1^{(1)} & x_2^{(1)} \\\\\n",
    "            x_0^{(2)} & x_1^{(2)} & x_2^{(2)}\\\\\n",
    "            \\vdots & \\vdots & \\vdots \\\\            \n",
    "            x_0^{(m)} & x_1^{(m)} & x_2^{(m)} \\\\\n",
    "        \\end{array}\\right]\n",
    "        =\n",
    "                \\left[\\begin{array}{c}\n",
    "            1 & x_1^{(1)} & x_2^{(1)}\\\\\n",
    "            1 & x_1^{(2)} & x_2^{(2)}\\\\\n",
    "            \\vdots & \\vdots \\\\            \n",
    "            1 & x_1^{(m)} & x_2^{(m)}\\\\\n",
    "        \\end{array}\\right]\\quad\n",
    "$$"
   ]
  },
  {
   "cell_type": "code",
   "execution_count": 1,
   "metadata": {},
   "outputs": [
    {
     "name": "stdout",
     "output_type": "stream",
     "text": [
      "the number of datasets is m = 100\n",
      "the size of the data is (m x n) = (100 x 3)\n"
     ]
    }
   ],
   "source": [
    "import numpy as np\n",
    "import os\n",
    "import matplotlib.pyplot as plt\n",
    "\n",
    "path=os.getcwd()\n",
    "datpath=path + '/ex2data1.txt'\n",
    "\n",
    "dat = np.loadtxt(datpath) #Get data\n",
    "\n",
    "#number of features (including theta0=1) \n",
    "n=dat.shape[1] \n",
    "\n",
    "#number of datasets  \n",
    "m=dat.shape[0]\n",
    "\n",
    "X0 , y =  np.split(dat, [n-1], 1) #Seperate data into the variable matrix X0 and vector y.\n",
    "X=np.insert(X0, 0, 1, axis=1) # Add 1 to the first column of the matrix X0.\n",
    "\n",
    "print('the number of datasets is m = %d'%m)\n",
    "print('the size of the data is (m x n) = (%d x %d)'%(m,n)) "
   ]
  },
  {
   "cell_type": "markdown",
   "metadata": {},
   "source": [
    "## Visualization of training data"
   ]
  },
  {
   "cell_type": "markdown",
   "metadata": {},
   "source": [
    "A scatter plot of our training data will be shown."
   ]
  },
  {
   "cell_type": "code",
   "execution_count": 2,
   "metadata": {},
   "outputs": [
    {
     "data": {
      "image/png": "[encoded data removed]",
      "text/plain": [
       "<Figure size 576x432 with 1 Axes>"
      ]
     },
     "metadata": {
      "needs_background": "light"
     },
     "output_type": "display_data"
    }
   ],
   "source": [
    "i_neg=0\n",
    "i_pos=0\n",
    "\n",
    "pos=y.nonzero()[0][:] #Find non-zero values for y\n",
    "\n",
    "X_neg=np.zeros((m-pos.shape[0],2)) # data with y = 0\n",
    "X_pos=np.zeros((pos.shape[0],2)) # data with y = 1\n",
    "\n",
    "for j in range(m):\n",
    "    if y[j]==0: #neg (not admitted)\n",
    "        X_neg[i_neg][0]=X0[j,0]\n",
    "        X_neg[i_neg][1]=X0[j,1]\n",
    "        i_neg=i_neg+1\n",
    "    elif y[j]==1:\n",
    "        X_pos[i_pos][0]=X0[j,0]\n",
    "        X_pos[i_pos][1]=X0[j,1]\n",
    "        i_pos=i_pos+1       \n",
    "\n",
    "plt.figure(figsize=(8,6))\n",
    "plt.title(\"Scatter plot of training data\",fontsize=16)\n",
    "plt.scatter(X_neg[:,0],X_neg[:,1],marker='o',color='red',label='Not admitted') #Not admitted\n",
    "plt.scatter(X_pos[:,0],X_pos[:,1],marker='+',color ='black',label='Admitted') #Admitted\n",
    "plt.xlabel(\"Exam 1 score\")\n",
    "plt.ylabel(\"Exam 2 score\")\n",
    "plt.legend()                                                                                \n",
    "plt.show()"
   ]
  },
  {
   "cell_type": "markdown",
   "metadata": {},
   "source": [
    "## Cost function"
   ]
  },
  {
   "cell_type": "markdown",
   "metadata": {},
   "source": [
    "The function \"<strong>Hypothesis(Xf,theta_f)</strong>\" is the hypothesis *h<sub>&theta;</sub>* (*x*) for a logistic regression model. In this code, this function is treated as a (m x 1)-vector.\n",
    "\n",
    "$$\n",
    "    \\mathrm{Hypothesis}(X_f,\\theta_f) = g\\bigl([\\theta_f^{T} X_f^{T}]^{T}\\bigl),\n",
    "$$\n",
    "\n",
    "where the parameters &theta;<sub>f</sub> (n x 1 vector) are written by\n",
    "$$\n",
    "    \\boldsymbol{\\theta_f} =\n",
    "        \\left[\\begin{array}{c}\n",
    "            \\theta_0 \\\\\n",
    "            \\theta_1 \\\\\n",
    "            \\vdots \\\\            \n",
    "            \\theta_n \\\\\n",
    "        \\end{array}\\right] \\quad\n",
    "$$\n",
    "and function g is the sigmoid function. The sigmoid function is defined as\n",
    "$$\n",
    "        g(z)=\\frac{1}{1+e^{-z}}.\n",
    "$$\n",
    "In this case, the hypothesis h takes values between 0 and 1."
   ]
  },
  {
   "cell_type": "markdown",
   "metadata": {},
   "source": [
    "The function \"<strong>CostFunctionJ</strong>\" returns the cost for specific input of theta parameters. The cost function in logistic regression is\n",
    "$$\n",
    "    J=\\frac{1}{m}\\sum_{i=1}^{m}\\biggl(-y^{(i)}log\\bigl(h_\\theta(x^{(i)})\\bigl)-(1-y^{(i)})log\\bigl(1-h_\\theta(x^{(i)})\\bigl)\\biggl).\n",
    "$$"
   ]
  },
  {
   "cell_type": "markdown",
   "metadata": {},
   "source": [
    "The function \"<strong>Gradient</strong>\" returns the gradient of the cost and is calculated by\n",
    "$$\n",
    "    \\frac{{\\partial}J(\\theta)}{{\\partial}\\theta_j}=\\frac{1}{m}\\sum_{i=1}^{m}\\bigl(h_\\theta(x^{(i)})-y^{(i)})\\bigl)x^{(i)}_j.\n",
    "$$"
   ]
  },
  {
   "cell_type": "markdown",
   "metadata": {},
   "source": [
    "The sigmoid function, hypothesis, cost function, and gradient are defined here:"
   ]
  },
  {
   "cell_type": "code",
   "execution_count": 3,
   "metadata": {},
   "outputs": [],
   "source": [
    "# sigmoid function\n",
    "def sigmoid(z_f):\n",
    "    import math\n",
    "    return 1/(1+math.e**(-z_f))\n",
    "\n",
    "# Hypothesis function.\n",
    "# This function returns m x 1 vector\n",
    "def Hypothesis(Xf,theta_f):\n",
    "    mf=Xf.shape[0]    \n",
    "    return sigmoid(np.reshape((np.matmul(Xf,theta_f)),(mf,1))) # m x 1 vector\n",
    "\n",
    "def CostFunctionJ(theta_f,Xf,yf): \n",
    "    mf=Xf.shape[0]    \n",
    "    term1=-np.dot(yf.T,np.log(Hypothesis(Xf,theta_f)))\n",
    "    term2=-np.dot((1-yf).T,np.log(1-Hypothesis(Xf,theta_f)))\n",
    "    return (1/mf) * ( term1 + term2) \n",
    "\n",
    "def Gradient(Xf,yf,theta_f): \n",
    "# returns n x 1 vector\n",
    "    mf=Xf.shape[0]\n",
    "    temp=Hypothesis(Xf,theta_f)-y\n",
    "    return 1/mf * np.dot(temp.T, X).T"
   ]
  },
  {
   "cell_type": "markdown",
   "metadata": {},
   "source": [
    "The sigmoid function will be shown below as a reference"
   ]
  },
  {
   "cell_type": "code",
   "execution_count": 4,
   "metadata": {},
   "outputs": [
    {
     "data": {
      "image/png": "[encoded data removed]",
      "text/plain": [
       "<Figure size 432x288 with 1 Axes>"
      ]
     },
     "metadata": {
      "needs_background": "light"
     },
     "output_type": "display_data"
    }
   ],
   "source": [
    "x_sig = np.linspace(-20,20,100)\n",
    "plt.figure(figsize=(6,4))\n",
    "plt.title(\"Sigmoid function\",fontsize=16)\n",
    "plt.plot(x_sig,sigmoid(x_sig))\n",
    "plt.show()"
   ]
  },
  {
   "cell_type": "markdown",
   "metadata": {},
   "source": [
    "Based on the defined functions, the cost will be calculated using different values for theta."
   ]
  },
  {
   "cell_type": "code",
   "execution_count": 5,
   "metadata": {},
   "outputs": [
    {
     "name": "stdout",
     "output_type": "stream",
     "text": [
      "Calculated cost for theta=(0.0,0.0,0.0): J=0.693\n",
      "Expected cost: J = 0.693\n",
      "Gradient at initial theta (zeros): -0.1000, -12.0092, -11.2628\n",
      "Expected gradients: -0.1000, -12.0092, -11.2628\n",
      "-------------------------------------------------------------------\n",
      "Calculated cost for theta=(-24.0,0.2,0.2): J=0.218\n",
      "Expected cost: J = 0.218\n",
      "Gradient at initial theta (zeros): 0.043, 2.566, 2.647\n",
      "Expected gradients: 0.043, 2.566, 2.647\n"
     ]
    }
   ],
   "source": [
    "theta_test=np.reshape(np.zeros(3),(3,1))\n",
    "\n",
    "grad_test=Gradient(X,y,theta_test)\n",
    "\n",
    "print('Calculated cost for theta=(%0.1f,%0.1f,%0.1f): J=%0.3f'%(theta_test[0],theta_test[1],theta_test[2],CostFunctionJ(theta_test,X,y)))\n",
    "print('Expected cost: J = 0.693')\n",
    "print('Gradient at initial theta (zeros): %0.4f, %0.4f, %0.4f'%(grad_test[0],grad_test[1],grad_test[2]))\n",
    "print('Expected gradients: -0.1000, -12.0092, -11.2628')\n",
    "\n",
    "print('-------------------------------------------------------------------')\n",
    "theta_test=np.array([[-24],[0.2],[0.2]])\n",
    "grad_test=Gradient(X,y,theta_test)\n",
    "print('Calculated cost for theta=(%0.1f,%0.1f,%0.1f): J=%0.3f'%(theta_test[0],theta_test[1],theta_test[2],CostFunctionJ(theta_test,X,y)))\n",
    "print('Expected cost: J = 0.218')\n",
    "print('Gradient at initial theta (zeros): %0.3f, %0.3f, %0.3f'%(grad_test[0],grad_test[1],grad_test[2]))\n",
    "print('Expected gradients: 0.043, 2.566, 2.647')"
   ]
  },
  {
   "cell_type": "markdown",
   "metadata": {},
   "source": [
    "Next, the minimum of the cost function is explored by changing the parameters theta. Nelder-Mead simplex algorithm is used to find the minimum of function. This method is available as \"scipy.optimize.fmin.\" This algorithm only uses function values, not derivatives or second derivatives. Details can be found [here](https://docs.scipy.org/doc/scipy/reference/generated/scipy.optimize.fmin.html)."
   ]
  },
  {
   "cell_type": "code",
   "execution_count": 6,
   "metadata": {},
   "outputs": [
    {
     "name": "stdout",
     "output_type": "stream",
     "text": [
      "Optimization terminated successfully.\n",
      "         Current function value: 0.203498\n",
      "         Iterations: 157\n",
      "         Function evaluations: 287\n",
      "Optimized theta = (-25.161, 0.206, 0.201)\n",
      "Expected theta = (-25.161, 0.206, 0.201)\n"
     ]
    }
   ],
   "source": [
    "from scipy import optimize\n",
    "\n",
    "theta=np.reshape(np.zeros(3),(3,1)) #initialization\n",
    "num_iter=400\n",
    "\n",
    "def optimizeTheta(theta_f,Xf,yf,num_iter_f):\n",
    "    result = optimize.fmin(CostFunctionJ, x0=theta_f, args=(Xf, yf), maxiter=num_iter_f, full_output=True)\n",
    "    return result[0], result[1]\n",
    "\n",
    "opttheta, fin_cost = optimizeTheta(theta,X,y,num_iter)\n",
    "\n",
    "print('Optimized theta = (%0.3f, %0.3f, %0.3f)'%(opttheta[0],opttheta[1],opttheta[2]))\n",
    "print('Expected theta = (-25.161, 0.206, 0.201)')"
   ]
  },
  {
   "cell_type": "markdown",
   "metadata": {},
   "source": [
    "Let us prefict y=1 if the hypothesis h is larger than 0. Based on this, we can draw a decision boundary because we already determined the optimised thetas."
   ]
  },
  {
   "cell_type": "code",
   "execution_count": 7,
   "metadata": {},
   "outputs": [
    {
     "data": {
      "image/png": "[encoded data removed]",
      "text/plain": [
       "<Figure size 576x432 with 1 Axes>"
      ]
     },
     "metadata": {
      "needs_background": "light"
     },
     "output_type": "display_data"
    }
   ],
   "source": [
    "x1=np.linspace(min(X[:,1]),max(X[:,1]),100)\n",
    "\n",
    "plt.figure(figsize=(8,6))\n",
    "plt.title(\"Training data with decision boundary\",fontsize=16)\n",
    "plt.scatter(X_neg[:,0],X_neg[:,1],marker='o',color='red',label='Not admitted') #Not admitted\n",
    "plt.scatter(X_pos[:,0],X_pos[:,1],marker='+',color ='black',label='Admitted') #Admitted\n",
    "plt.plot(x1,(-opttheta[0]-opttheta[1]*x1)/opttheta[2])\n",
    "plt.xlabel(\"Exam 1 score\")\n",
    "plt.ylabel(\"Exam 2 score\")\n",
    "plt.legend()                                                                                \n",
    "plt.show()"
   ]
  },
  {
   "cell_type": "markdown",
   "metadata": {},
   "source": [
    "After getting parameters, you can use them to predict the outcomes of unseen data. In the next cell, the probability that a student with score 45 on exam 1 and score 85 on exam 2 will be calculated using the logistic regression model."
   ]
  },
  {
   "cell_type": "code",
   "execution_count": 8,
   "metadata": {},
   "outputs": [
    {
     "name": "stdout",
     "output_type": "stream",
     "text": [
      "For a student with scores 45 and 85, we predict an admission probability of 0.776\n"
     ]
    }
   ],
   "source": [
    "X_test=np.reshape(np.array([1,45,85]),(1,3))\n",
    "\n",
    "print('For a student with scores 45 and 85, we predict an admission probability of %0.3f'%Hypothesis(X_test,opttheta))"
   ]
  },
  {
   "cell_type": "markdown",
   "metadata": {},
   "source": [
    "# Regularized logistic regression"
   ]
  },
  {
   "cell_type": "markdown",
   "metadata": {},
   "source": [
    "In this part of the exercise, regularized logistic regression will be implemented to predict whether microchips from a fabrication plant passes quality assurance."
   ]
  },
  {
   "cell_type": "markdown",
   "metadata": {},
   "source": [
    "## Preparation of data"
   ]
  },
  {
   "cell_type": "markdown",
   "metadata": {},
   "source": [
    "Results for some microchips on two different tests are given in the file \"<strong>ex2data2.txt</strong>\" as a training dataset for logistic regression. For each training example, the scores of two tests and the result (0 or 1) are given. The number of the training sample is m."
   ]
  },
  {
   "cell_type": "markdown",
   "metadata": {},
   "source": [
    "Let us prepare training dataset. In the file \"ex2data2.txt,\" there are three columns. Data in this file are obtained as the matrix \"dat.\" The first and second columns are scores of the first and second tests, respectively. The third column represents for the results. The numbers 0 and 1 in the third column of the matrix \"dat\" represent the negative and positive results, respectively. In the data preparation process, the following matrices and vector are obtained:\n",
    "\n",
    "$$\n",
    "    \\mathbf{dat} =\n",
    "        \\left[\\begin{array}{c}\n",
    "            x_1^{(1)} & x_2^{(1)} & y^{(1)}\\\\\n",
    "            x_1^{(2)} & x_2^{(2)} & y^{(2)}\\\\\n",
    "            \\vdots & \\vdots \\\\            \n",
    "            x_1^{(m)} & x_2^{(m)} & y^{(m)}\\\\\n",
    "        \\end{array}\\right] \\quad\n",
    "    \\boldsymbol{X_0} =\n",
    "        \\left[\\begin{array}{c}\n",
    "            x_1^{(1)}& x_2^{(1)} \\\\\n",
    "            x_1^{(2)}& x_2^{(2)} \\\\\n",
    "            \\vdots \\\\            \n",
    "            x_1^{(m)} & x_2^{(m)}\\\\\n",
    "        \\end{array}\\right] \\quad\n",
    "    \\boldsymbol{y} =\n",
    "        \\left[\\begin{array}{c}\n",
    "            y^{(1)} \\\\\n",
    "            y^{(2)} \\\\\n",
    "            \\vdots \\\\            \n",
    "            y^{(m)} \\\\\n",
    "        \\end{array}\\right] \\quad\n",
    "$$"
   ]
  },
  {
   "cell_type": "markdown",
   "metadata": {},
   "source": [
    "A new column consisting of 1 is added to the first column of the matrix X<sub>0</sub> to form a new matrix X.\n",
    "\n",
    "$$\n",
    "    \\boldsymbol{X} =\n",
    "        \\left[\\begin{array}{c}\n",
    "            x_0^{(1)} & x_1^{(1)} & x_2^{(1)} \\\\\n",
    "            x_0^{(2)} & x_1^{(2)} & x_2^{(2)}\\\\\n",
    "            \\vdots & \\vdots & \\vdots \\\\            \n",
    "            x_0^{(m)} & x_1^{(m)} & x_2^{(m)} \\\\\n",
    "        \\end{array}\\right]\n",
    "        =\n",
    "                \\left[\\begin{array}{c}\n",
    "            1 & x_1^{(1)} & x_2^{(1)}\\\\\n",
    "            1 & x_1^{(2)} & x_2^{(2)}\\\\\n",
    "            \\vdots & \\vdots \\\\            \n",
    "            1 & x_1^{(m)} & x_2^{(m)}\\\\\n",
    "        \\end{array}\\right]\\quad\n",
    "$$"
   ]
  },
  {
   "cell_type": "code",
   "execution_count": 9,
   "metadata": {},
   "outputs": [
    {
     "name": "stdout",
     "output_type": "stream",
     "text": [
      "the number of datasets is m = 118\n",
      "the size of the data is (m x n) = (118 x 3)\n"
     ]
    }
   ],
   "source": [
    "path=os.getcwd()\n",
    "datpath=path + '/ex2data2.txt'\n",
    "\n",
    "dat = np.loadtxt(datpath) #Get data\n",
    "\n",
    "#number of features (including theta0=1) \n",
    "n=dat.shape[1] \n",
    "\n",
    "#number of datasets  \n",
    "m=dat.shape[0]\n",
    "\n",
    "X0 , y =  np.split(dat, [n-1], 1) #Seperate data into the variable matrix X0 and vector y.\n",
    "X=np.insert(X0, 0, 1, axis=1) # Add 1 to the first column of the matrix X0.\n",
    "\n",
    "print('the number of datasets is m = %d'%m)\n",
    "print('the size of the data is (m x n) = (%d x %d)'%(m,n)) "
   ]
  },
  {
   "cell_type": "markdown",
   "metadata": {},
   "source": [
    "A scatter plot of training data will be shown."
   ]
  },
  {
   "cell_type": "code",
   "execution_count": 10,
   "metadata": {},
   "outputs": [
    {
     "data": {
      "image/png": "[encoded data removed]",
      "text/plain": [
       "<Figure size 576x432 with 1 Axes>"
      ]
     },
     "metadata": {
      "needs_background": "light"
     },
     "output_type": "display_data"
    }
   ],
   "source": [
    "i_neg=0\n",
    "i_pos=0\n",
    "\n",
    "pos=y.nonzero()[0][:] #Find non-zero values for y\n",
    "\n",
    "X_neg=np.zeros((m-pos.shape[0],2)) # data with y = 0\n",
    "X_pos=np.zeros((pos.shape[0],2)) # data with y = 1\n",
    "\n",
    "for j in range(m):\n",
    "    if y[j]==0: #neg (rejected)\n",
    "        X_neg[i_neg][0]=X0[j,0]\n",
    "        X_neg[i_neg][1]=X0[j,1]\n",
    "        i_neg=i_neg+1\n",
    "    elif y[j]==1:\n",
    "        X_pos[i_pos][0]=X0[j,0]\n",
    "        X_pos[i_pos][1]=X0[j,1]\n",
    "        i_pos=i_pos+1       \n",
    "\n",
    "plt.figure(figsize=(8,6))\n",
    "plt.title(\"Scatter plot of training data\",fontsize=16)\n",
    "plt.scatter(X_neg[:,0],X_neg[:,1],marker='o',color='red',label='Rejected') #Not admitted\n",
    "plt.scatter(X_pos[:,0],X_pos[:,1],marker='+',color ='black',label='Accepted') #Admitted\n",
    "plt.xlabel(\"Exam 1 score\")\n",
    "plt.ylabel(\"Exam 2 score\")\n",
    "plt.legend()                                                                                \n",
    "plt.show()"
   ]
  },
  {
   "cell_type": "markdown",
   "metadata": {},
   "source": [
    "## Feature mapping"
   ]
  },
  {
   "cell_type": "markdown",
   "metadata": {},
   "source": [
    "The scatter plot of training data shows that our dataset cannot be separated into positive and negative examples by a straight line. In other words, a linear decision boundary is no longer appropreate for this dataset. One of the possible ways to fit the data better is to create more features from each data point. That can be achieved by mapping features into all polynomial terms of x<sub>1</sub> and x<sub>2</sub> up to the sixth power."
   ]
  },
  {
   "cell_type": "markdown",
   "metadata": {},
   "source": [
    "Let us define the function \"<strong>mapFeature</strong>\" for feature mapping. "
   ]
  },
  {
   "cell_type": "markdown",
   "metadata": {},
   "source": [
    "$$\n",
    "    \\mathrm{mapFeature}(X_1,X_2,n_o) =\n",
    "        \\left[\\begin{array}{c}\n",
    "            (x_1^{(1)})^{0}(x_2^{(1)})^{0} & (x_1^{(1)})^{0}(x_2^{(1)})^{1} & (x_1^{(1)})^{0}(x_2^{(1)})^{2} & \\dots & (x_1^{(1)})^{i}(x_2^{(1)})^{j}  & \\dots & (x_1^{(1)})^{n_o}(x_2^{(1)})^{n_o}  \\\\\n",
    "            (x_1^{(2)})^{0}(x_2^{(2)})^{0}  & (x_1^{(2)})^{0}(x_2^{(2)})^{1} & (x_1^{(2)})^{0}(x_2^{(2)})^{2}& \\dots & (x_1^{(2)})^{i}(x_2^{(2)})^{j} & \\dots & (x_1^{(2)})^{n_o}(x_2^{(2)})^{n_o}\\\\\n",
    "            \\vdots & \\vdots & \\vdots \\\\            \n",
    "            (x_1^{(m)})^{0}(x_2^{(m)})^{0}  & (x_1^{(m)})^{0}(x_2^{(m)})^{1} & (x_1^{(m)})^{0}(x_2^{(m)})^{2} & \\dots & (x_1^{(m)})^{i}(x_2^{(m)})^{j} & \\dots & (x_1^{(m)})^{n_o}(x_2^{(m)})^{n_o}\\\\\n",
    "        \\end{array}\\right]\n",
    "$$\n",
    "where integers i and j satisfy\n",
    "$$\n",
    "0 \\leq i, j \\leq n_o \n",
    "$$\n",
    "This function returns (m x n<sub>FM</sub>)-matrix, where the integer n<sub>FM</sub> can be calculated by\n",
    "$$\n",
    "n_{FM} = \\frac{1}{2}(n_o+1)(n_o+2)\n",
    "$$\n",
    "and is regarded as the number of new features.\n",
    "In the present case, the order n<sub>o</sub> is 6."
   ]
  },
  {
   "cell_type": "code",
   "execution_count": 11,
   "metadata": {},
   "outputs": [],
   "source": [
    "def mapFeature(X1f,X2f, order):\n",
    "#X1f and X2f are (mf x 1)-vector. \n",
    "    num_feature=int(0.5*(order+1)*(order+2))\n",
    "    mf=X1f.shape[0] #=X2f.shape[0]\n",
    "    ret = np.ones([mf,1])\n",
    "        \n",
    "    num_f=0\n",
    "    \n",
    "    for i in range(order+1):\n",
    "        for j in range(order-i+1):         \n",
    "            if (i==0) and (j==0):\n",
    "                 num_f=num_f+1        \n",
    "            else:\n",
    "                ret=np.insert(ret, num_f, ((X1f**i) * (X2f**j)).T, axis=1)            \n",
    "                num_f=num_f+1        \n",
    "\n",
    "    return ret"
   ]
  },
  {
   "cell_type": "markdown",
   "metadata": {},
   "source": [
    "The feature mapping will be performed in the next cell. We will map the features into all polynomial terms of x<sub>1</sub> and x<sub>2</sub> up to the sixth power (order = 6). "
   ]
  },
  {
   "cell_type": "code",
   "execution_count": 12,
   "metadata": {},
   "outputs": [
    {
     "name": "stdout",
     "output_type": "stream",
     "text": [
      "At first, there are 3 features (including x0 = 1) in the original data.\n",
      "After performing the feature mapping considering up to 6-th power, the number of features is 28.\n"
     ]
    }
   ],
   "source": [
    "X1=X[:,1]\n",
    "X2=X[:,2]\n",
    "order = 6\n",
    "\n",
    "X_fm= mapFeature(X1,X2,order)\n",
    "\n",
    "nf=X_fm.shape[1]\n",
    "\n",
    "print(\"At first, there are %d features (including x0 = 1) in the original data.\"%n)\n",
    "print(\"After performing the feature mapping considering up to %d-th power, the number of features is %d.\"%(order,nf))"
   ]
  },
  {
   "cell_type": "markdown",
   "metadata": {},
   "source": [
    "A logistic regression classifier trained on this higher-dimension feature vector will have a more complex decision boundary. "
   ]
  },
  {
   "cell_type": "markdown",
   "metadata": {},
   "source": [
    "## Regularized logistic regression"
   ]
  },
  {
   "cell_type": "markdown",
   "metadata": {},
   "source": [
    "### Cost and gradient for a few different initial conditions"
   ]
  },
  {
   "cell_type": "markdown",
   "metadata": {},
   "source": [
    "The function \"<strong>RegCostFunctionJ</strong>\" returns the cost for specific input of theta parameters. The regularized cost function for logistic regression is given by\n",
    "$$\n",
    "    J=\\frac{1}{m}\\sum_{i=1}^{m}\\biggl(-y^{(i)}log\\bigl(h_\\theta(x^{(i)})\\bigl)-(1-y^{(i)})log\\bigl(1-h_\\theta(x^{(i)})\\bigl)\\biggl)+\\frac{\\lambda}{2m}\\sum_{j=1}^{n}\\theta^2_j.\n",
    "$$\n",
    "It should be noted that the parameter &theta;<sub>0</sub> should not be regularized. In the equation above, the second summation is taken from j = 1 (not j = 0) to j = n."
   ]
  },
  {
   "cell_type": "markdown",
   "metadata": {},
   "source": [
    "The function \"<strong>RegGradient</strong>\" returns the gradient of the cost function that is a vector where the j-th element is defined as\n",
    "\n",
    "$$\n",
    "    \\frac{{\\partial}J(\\theta)}{{\\partial}\\theta_j}=\\frac{1}{m}\\sum_{i=1}^{m}\\bigl(h_\\theta(x^{(i)})-y^{(i)})\\bigl)x^{(i)}_j \\ \\ \\ \\ \\ \\ \\ (\\mathrm{for } j = 0) \n",
    "$$\n",
    "\n",
    "and \n",
    "\n",
    "$$\n",
    "    \\frac{{\\partial}J(\\theta)}{{\\partial}\\theta_j}=\\frac{1}{m}\\sum_{i=1}^{m}\\bigl(h_\\theta(x^{(i)})-y^{(i)})\\bigl)x^{(i)}_j + \\frac{\\lambda}{m}\\theta_j \\ \\ \\ \\ \\ \\ \\ (\\mathrm{for } j \\geq 1) \n",
    "$$\n"
   ]
  },
  {
   "cell_type": "code",
   "execution_count": 13,
   "metadata": {},
   "outputs": [],
   "source": [
    "def Hypothesis(theta_f,Xf):\n",
    "    from scipy.special import expit\n",
    "    #expit(x) is the sigmoid function  \n",
    "    return expit(np.matmul(Xf,theta_f)) # m x 1 vector\n",
    "\n",
    "def RegLRCostFunctionJ(theta_f, lambda_f, Xf, yf):\n",
    "    mf=Xf.shape[0] # 5000\n",
    "    hf = Hypothesis(theta_f,Xf)\n",
    "    term1=-np.dot(yf.T,np.log(hf))  \n",
    "    term2=-np.dot((1-yf).T,np.log(1-hf)) \n",
    "    reg_term = 0.5 * lambda_f/mf *( np.dot(theta_f.T,theta_f)-theta_f[0]*theta_f[0])\n",
    "    return (1/mf) * ( term1 + term2) +reg_term \n",
    "\n",
    "def RegLRGradient(theta_f, lambda_f, Xf,yf):\n",
    "    mf = yf.size\n",
    "    hf=Hypothesis(theta_f.reshape(-1,1),Xf)      \n",
    "\n",
    "    ret = (1/mf)*Xf.T.dot(hf-yf) + (lambda_f/mf)*np.r_[[[0]],theta_f[1:].reshape(-1,1)]\n",
    "        \n",
    "    return ret.flatten()"
   ]
  },
  {
   "cell_type": "markdown",
   "metadata": {},
   "source": [
    "Let us calculate the cost and gradient for a few sets of initial theta values and lambdas. At first, all components of theta are set to be 0, and the le &lambda; is set to be 1:"
   ]
  },
  {
   "cell_type": "markdown",
   "metadata": {},
   "source": [
    "$$\n",
    "    \\boldsymbol{\\theta_{test}} =\n",
    "        \\left[\\begin{array}{c}\n",
    "            0 \\\\\n",
    "            0 \\\\\n",
    "            \\vdots \\\\            \n",
    "            0 \\\\\n",
    "        \\end{array}\\right] \\quad\n",
    "$$\n",
    "\n",
    "and\n",
    "\n",
    "$$\n",
    "    \\lambda_{test} = 1.\n",
    "$$"
   ]
  },
  {
   "cell_type": "code",
   "execution_count": 14,
   "metadata": {},
   "outputs": [
    {
     "name": "stdout",
     "output_type": "stream",
     "text": [
      "lambda=1.0\n",
      "Calculated cost for theta=(0.0,0.0,0.0): J=0.693\n",
      "Expected cost: J = 0.693\n",
      "Some of the gradient components at initial theta (zeros): 0.0085, 0.0188, 0.0001, 0.0503, 0.0115\n",
      "Expected gradients: 0.0085, 0.0188, 0.0001, 0.0503, 0.0115\n"
     ]
    }
   ],
   "source": [
    "theta_test=np.reshape(np.zeros(nf),(nf,1))\n",
    "lambda_test=1\n",
    "\n",
    "grad_test=RegLRGradient(theta_test, lambda_test,X_fm, y)\n",
    "\n",
    "print('lambda=%0.1f'%lambda_test)\n",
    "print('Calculated cost for theta=(%0.1f,%0.1f,%0.1f): J=%0.3f'%(theta_test[0],theta_test[1],theta_test[2],RegLRCostFunctionJ(theta_test,lambda_test,X_fm,y)))\n",
    "print('Expected cost: J = 0.693')\n",
    "print('Some of the gradient components at initial theta (zeros): %0.4f, %0.4f, %0.4f, %0.4f, %0.4f'%(grad_test[0],grad_test[7],grad_test[1],grad_test[13],grad_test[8]))\n",
    "print('Expected gradients: 0.0085, 0.0188, 0.0001, 0.0503, 0.0115')"
   ]
  },
  {
   "cell_type": "markdown",
   "metadata": {},
   "source": [
    "Next, different initial conditions shown below are adopted:\n",
    "\n",
    "$$\n",
    "    \\boldsymbol{\\theta_{test}} =\n",
    "        \\left[\\begin{array}{c}\n",
    "            1 \\\\\n",
    "            1 \\\\\n",
    "            \\vdots \\\\            \n",
    "            1 \\\\\n",
    "        \\end{array}\\right] \\quad\n",
    "$$\n",
    "\n",
    "and\n",
    "\n",
    "$$\n",
    "    \\lambda_{test} = 10.\n",
    "$$"
   ]
  },
  {
   "cell_type": "code",
   "execution_count": 15,
   "metadata": {},
   "outputs": [
    {
     "name": "stdout",
     "output_type": "stream",
     "text": [
      "lambda=10.0\n",
      "Calculated cost for theta=(1.0,1.0,1.0): J=3.16\n",
      "Expected cost: J = 3.16\n",
      "Some of the gradient components at initial theta (ones): 0.3460, 0.1614, 0.1948, 0.2269, 0.0922\n",
      "Expected gradients: 0.3460, 0.1614, 0.1948, 0.2269, 0.0922\n"
     ]
    }
   ],
   "source": [
    "theta_test=np.reshape(np.ones(nf),(nf,1))\n",
    "lambda_test=10\n",
    "\n",
    "grad_test=RegLRGradient(theta_test, lambda_test,X_fm, y)\n",
    "\n",
    "\n",
    "print('lambda=%0.1f'%lambda_test)\n",
    "print('Calculated cost for theta=(%0.1f,%0.1f,%0.1f): J=%0.2f'%(theta_test[0],theta_test[1],theta_test[2],RegLRCostFunctionJ(theta_test,lambda_test,X_fm,y)))\n",
    "print('Expected cost: J = 3.16')\n",
    "print('Some of the gradient components at initial theta (ones): %0.4f, %0.4f, %0.4f, %0.4f, %0.4f'%(grad_test[0],grad_test[7],grad_test[1],grad_test[13],grad_test[8]))\n",
    "print('Expected gradients: 0.3460, 0.1614, 0.1948, 0.2269, 0.0922')"
   ]
  },
  {
   "cell_type": "markdown",
   "metadata": {},
   "source": [
    "### Decision boundary"
   ]
  },
  {
   "cell_type": "markdown",
   "metadata": {},
   "source": [
    "The regularized cost function J will be minimized by changing the parameters &theta;. New functions for minimizing the cost function and for drawing decision boundary with original data are defined in the next cell. \n",
    "\n",
    "The minimization of the cost function can be done using [scipy.optimize.minimize](https://docs.scipy.org/doc/scipy/reference/generated/scipy.optimize.minimize.html#scipy.optimize.minimize) in the function \"<strong>RegOptimizeTheta</strong>.\" Some algorithms are available. In this notebook, CG algorithm is adopted."
   ]
  },
  {
   "cell_type": "markdown",
   "metadata": {},
   "source": [
    "The function \"<strong>DecisionBoundary</strong>\" is used to draw a decision boundary. The boundary is shown using the optimized &theta;."
   ]
  },
  {
   "cell_type": "markdown",
   "metadata": {},
   "source": [
    "The function \"<strong>predict</strong>\" returns 0/1 if the input value is smaller/larger than 0.5. "
   ]
  },
  {
   "cell_type": "code",
   "execution_count": 16,
   "metadata": {},
   "outputs": [],
   "source": [
    "def RegOptimizeTheta(theta_f,Xf,yf,lambda_f):\n",
    "    from scipy.optimize import minimize\n",
    "    result=minimize(fun=RegLRCostFunctionJ,x0= theta_f, args=(lambda_f, Xf,yf), method='CG',\n",
    "                       jac=RegLRGradient, options={'maxiter':400})\n",
    "    return result\n",
    "\n",
    "def DecisionBoundary(Xneg_f, Xpos_f,opttheta_f):\n",
    "    #this function is used to draw a decision boundary.\n",
    "    xvals = np.linspace(-1,1.5,50)\n",
    "    yvals = np.linspace(-1,1.5,50)\n",
    "    zvals = np.zeros((len(xvals),len(yvals)))\n",
    "\n",
    "    for i in range(len(xvals)):\n",
    "        for j in range(len(yvals)):\n",
    "            F_ij = mapFeature(np.array([xvals[i]]),np.array([yvals[j]]),6)\n",
    "            zvals[i][j] = np.dot(F_ij,opttheta_f)\n",
    "\n",
    "    zvals = zvals.transpose()\n",
    "\n",
    "    contour = plt.contour( xvals, yvals, zvals, [0])\n",
    "    plt.scatter(Xneg_f[:,0],Xneg_f[:,1],marker='o',color='red',label='Rejected') #Not admitted\n",
    "    plt.scatter(Xpos_f[:,0],Xpos_f[:,1],marker='+',color ='black',label='Accepted') #Admitted\n",
    "    plt.xlabel(\"Exam 1 score\")\n",
    "    plt.ylabel(\"Exam 2 score\")\n",
    "    plt.legend()                                   \n",
    "\n",
    "def predict(x_inp):\n",
    "    #If the hypothesis is larger than 0.5, this function returns 1.\n",
    "    mf=x_inp.shape[0]\n",
    "    ret=np.reshape(np.zeros(mf),(mf,1))\n",
    "    \n",
    "    for j in range(mf):\n",
    "        if  x_inp[j] < 0.5:\n",
    "            ret[j]=0\n",
    "        else:\n",
    "            ret[j]=1\n",
    "    return ret"
   ]
  },
  {
   "cell_type": "markdown",
   "metadata": {},
   "source": [
    "Decision boundaries will be shown for different parameters of &lambda; (&lambda; = 0, 0.1, 1, 100)."
   ]
  },
  {
   "cell_type": "code",
   "execution_count": 18,
   "metadata": {},
   "outputs": [
    {
     "data": {
      "image/png": "[encoded data removed]",
      "text/plain": [
       "<Figure size 864x648 with 4 Axes>"
      ]
     },
     "metadata": {
      "needs_background": "light"
     },
     "output_type": "display_data"
    }
   ],
   "source": [
    "#Initial condition\n",
    "theta_test=np.reshape(np.zeros(nf),(nf,1))\n",
    "lambda_set=np.array([0,0.1, 1,100])\n",
    "\n",
    "plt.figure(figsize=(12,9))\n",
    "\n",
    "for j in range(lambda_set.shape[0]):\n",
    "    lambda_test=lambda_set[j]\n",
    "    result = RegOptimizeTheta(theta_test,X_fm,y,lambda_test)\n",
    "    opttheta=result.x\n",
    "\n",
    "    temp=\"22%d\"%(j+1)\n",
    "    \n",
    "    plt.subplot(temp)\n",
    "    DecisionBoundary(X_neg, X_pos,opttheta)\n",
    "    \n",
    "    #accuracy\n",
    "    p=predict(Hypothesis(opttheta,X_fm))\n",
    "    accuracy=np.count_nonzero(p==y)/m*100\n",
    "    \n",
    "    #adding texts\n",
    "    plt.text(-0.95,-0.95, 'lambda=%0.1f, accuracy=%0.1f'%(lambda_set[j],accuracy))\n",
    "\n",
    "plt.show()"
   ]
  },
  {
   "cell_type": "code",
   "execution_count": null,
   "metadata": {},
   "outputs": [],
   "source": []
  }
 ],
 "metadata": {
  "kernelspec": {
   "display_name": "Python 3",
   "language": "python",
   "name": "python3"
  },
  "language_info": {
   "codemirror_mode": {
    "name": "ipython",
    "version": 3
   },
   "file_extension": ".py",
   "mimetype": "text/x-python",
   "name": "python",
   "nbconvert_exporter": "python",
   "pygments_lexer": "ipython3",
   "version": "3.7.1"
  },
  "toc": {
   "base_numbering": 1,
   "nav_menu": {},
   "number_sections": true,
   "sideBar": true,
   "skip_h1_title": false,
   "title_cell": "Table of Contents",
   "title_sidebar": "Contents",
   "toc_cell": false,
   "toc_position": {},
   "toc_section_display": true,
   "toc_window_display": false
  }
 },
 "nbformat": 4,
 "nbformat_minor": 2
}
