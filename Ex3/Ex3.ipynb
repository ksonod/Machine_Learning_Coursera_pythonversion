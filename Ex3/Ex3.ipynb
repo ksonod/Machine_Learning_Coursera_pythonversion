{
 "cells": [
  {
   "cell_type": "markdown",
   "metadata": {},
   "source": [
    "# About this notebook"
   ]
  },
  {
   "cell_type": "markdown",
   "metadata": {},
   "source": [
    "This notebook is based on Coursera's course \"Machine learning\" by Prof. Andrew Ng from Stanford University. In this course, all codes are written in Octave or Matlab. This notebook provides the Python version of the codes."
   ]
  },
  {
   "cell_type": "markdown",
   "metadata": {},
   "source": [
    "This notebook is based on the Exerxise 3. Key words are as follows:\n",
    "- Multi-class classification\n",
    "- Regularized logistic regression\n",
    "- One-vs-all logistic regression\n",
    "- Neural network\n",
    "- Handwriting recognition"
   ]
  },
  {
   "cell_type": "markdown",
   "metadata": {},
   "source": [
    "# Multi-class classification"
   ]
  },
  {
   "cell_type": "markdown",
   "metadata": {},
   "source": [
    "In this part of the notebook, one-vs-all logistic regression will be implemented to recognize handwritten digits (from 0 to 9)."
   ]
  },
  {
   "cell_type": "markdown",
   "metadata": {},
   "source": [
    "## Preparation of data"
   ]
  },
  {
   "cell_type": "markdown",
   "metadata": {},
   "source": [
    "Data are prepared in .mat format. \n",
    "- ex3data1.mat: dict_keys(['__header__', '__version__', '__globals__', 'X', 'y'])\n",
    "- ex3weights.mat: dict_keys(['__header__', '__version__', '__globals__', 'Theta1', 'Theta2'])"
   ]
  },
  {
   "cell_type": "markdown",
   "metadata": {},
   "source": [
    "The matrix X and vector y in the file \"ex3data1.mat\" are obtained as X<sub>0</sub> and y, respectively:\n",
    "\n",
    "$$\n",
    "    \\boldsymbol{X_0} =\n",
    "        \\left[\\begin{array}{c}\n",
    "            x_1^{(1)}& x_2^{(1)} & \\dots & x_{n_{pixel}}^{(1)} \\\\\n",
    "            x_1^{(2)}& x_2^{(2)} & \\dots & x_{n_{pixel}}^{(2)} \\\\ \n",
    "            \\vdots & \\vdots \\\\\n",
    "            x_1^{(m)} & x_2^{(m)} & \\dots & x_{n_{pixel}}^{(m)} \\\\\n",
    "        \\end{array}\\right]\\quad        \n",
    "    \\boldsymbol{y} =\n",
    "        \\left[\\begin{array}{c}\n",
    "            y^{(1)} \\\\\n",
    "            y^{(2)} \\\\\n",
    "            \\vdots \\\\            \n",
    "            y^{(m)} \\\\\n",
    "        \\end{array}\\right] \\quad\n",
    "$$  \n",
    "\n",
    "Here, X<sub>0</sub> is (m x n<sub>pixel</sub>)-matrix, and y is m-dimensional vector. The integer n<sub>pixel</sub> represents the number of pixels in an image. The integer m is the number of images and can be regarded as the number of training datasets. One image is stored in each row, i.e., j-th image is expressed by\n",
    "\n",
    "$$\n",
    "    \\boldsymbol{X_0(j)} =\n",
    "        \\left[\\begin{array}{c}\n",
    "            x_1^{(j)}& x_2^{(j)} & \\dots & x_{n_{pixel}}^{(j)} \\\\\n",
    "        \\end{array}\\right].\\quad        \n",
    "$$\n"
   ]
  },
  {
   "cell_type": "markdown",
   "metadata": {},
   "source": [
    "A new column consisting of 1 is added to the first column of the matrix X<sub>0</sub> to form a new matrix X.\n",
    "\n",
    "$$\n",
    "    \\boldsymbol{X} =\n",
    "        \\left[\\begin{array}{c}\n",
    "            x_0^{(1)} & x_1^{(1)}& x_2^{(1)} & \\dots & x_{n_{pixel}}^{(1)} \\\\\n",
    "            x_0^{(2)} & x_1^{(2)}& x_2^{(2)} & \\dots & x_{n_{pixel}}^{(2)} \\\\ \n",
    "            \\vdots & \\vdots & \\vdots &   & \\vdots  \\\\\n",
    "            x_0^{(m)} & x_1^{(m)} & x_2^{(m)} & \\dots & x_{n_{pixel}}^{(m)} \\\\\n",
    "        \\end{array}\\right]\n",
    "        =\n",
    "        \\left[\\begin{array}{c}\n",
    "            1 & x_1^{(1)}& x_2^{(1)} & \\dots & x_{n_{pixel}}^{(1)} \\\\\n",
    "            1 & x_1^{(2)}& x_2^{(2)} & \\dots & x_{n_{pixel}}^{(2)} \\\\ \n",
    "            \\vdots & \\vdots & \\vdots &   & \\vdots  \\\\\n",
    "            1 & x_1^{(m)} & x_2^{(m)} & \\dots & x_{n_{pixel}}^{(m)} \\\\\n",
    "        \\end{array}\\right]\\quad\n",
    "$$\n",
    "\n",
    "Here, the matrix X has m x n components, where n is the integer that represents the number of features."
   ]
  },
  {
   "cell_type": "code",
   "execution_count": 1,
   "metadata": {},
   "outputs": [
    {
     "name": "stdout",
     "output_type": "stream",
     "text": [
      "dict_keys(['__header__', '__version__', '__globals__', 'X', 'y'])\n",
      "dict_keys(['__header__', '__version__', '__globals__', 'Theta1', 'Theta2'])\n",
      "The number of training examples of handwritten digits is m = 5000\n",
      "The number of pixels is n_pixel = 400\n",
      "The datasize of X is 5000 x 401\n",
      "The datasize of y is 5000 x 1\n",
      "The datasize of theta1 is 25 x 401\n",
      "The datasize of theta2 is 10 x 26\n"
     ]
    }
   ],
   "source": [
    "import numpy as np\n",
    "import os\n",
    "import matplotlib.pyplot as plt\n",
    "from scipy.io import loadmat\n",
    "\n",
    "path=os.getcwd()\n",
    "\n",
    "datpath1=path + '/ex3data1.mat'\n",
    "datpath2=path + '/ex3weights.mat'\n",
    "\n",
    "dat1=loadmat(datpath1)\n",
    "dat2=loadmat(datpath2)\n",
    "print(dat1.keys())\n",
    "print(dat2.keys())\n",
    "\n",
    "X0=dat1['X']\n",
    "X=np.insert(X0, 0, 1, axis=1) # Add 1 to the first column of the matrix X0.\n",
    "y=dat1['y']\n",
    "theta1=dat2['Theta1']\n",
    "theta2=dat2['Theta2']\n",
    "\n",
    "#total number of the whole pixels \n",
    "n_pixel=X0.shape[1] \n",
    "\n",
    "#number of features\n",
    "n=X.shape[1] \n",
    "\n",
    "#number of datasets  \n",
    "m=X0.shape[0]\n",
    "\n",
    "print('The number of training examples of handwritten digits is m = %d'%m)\n",
    "print('The number of pixels is n_pixel = %d'%n_pixel)\n",
    "print('The datasize of X is %d x %d'%(X.shape[0],X.shape[1]))\n",
    "print('The datasize of y is %d x %d'%(y.shape[0],1))\n",
    "print('The datasize of theta1 is %d x %d'%(theta1.shape[0],theta1.shape[1]))\n",
    "print('The datasize of theta2 is %d x %d'%(theta2.shape[0],theta2.shape[1]))"
   ]
  },
  {
   "cell_type": "markdown",
   "metadata": {},
   "source": [
    "## Visualization of data"
   ]
  },
  {
   "cell_type": "markdown",
   "metadata": {},
   "source": [
    "As mentioned above, one image is stored as (1 x n<sub>pixel</sub>)-dimensional vector.\n",
    "\n",
    "$$\n",
    "    \\boldsymbol{X_0(j)} =\n",
    "        \\left[\\begin{array}{c}\n",
    "            x_1^{(j)}& x_2^{(j)} & \\dots & x_{n_{pixel}}^{(j)} \\\\\n",
    "        \\end{array}\\right].\\quad        \n",
    "$$\n",
    "In order to visualize the image, it is convinient to transform this type of vector into (n<sub>f</sub> x n<sub>f</sub>)-matrix, where n<sub>f</sub> is the squre root of n<sub>pixel</sub>. The function \"<strong>ConvertVectorToMatrix</strong>\" does this transformation. In the present case, n<sub>pixel</sub> = 400 and n<sub>f</sub> = 20."
   ]
  },
  {
   "cell_type": "code",
   "execution_count": 2,
   "metadata": {
    "code_folding": []
   },
   "outputs": [],
   "source": [
    "def ConvertVectorToMatrix(Xf):\n",
    "#convert (1 x nf*nf) vector into (nf x nf) matrix\n",
    "    nf= int(np.sqrt(Xf.shape[0]))\n",
    "    ret = np.zeros([nf,nf])\n",
    "    \n",
    "    for j in range(nf):\n",
    "        n_int=nf*j\n",
    "        n_fin=nf*(j+1)        \n",
    "\n",
    "        ret[j]=Xf[n_int:n_fin]\n",
    "    \n",
    "    return ret"
   ]
  },
  {
   "cell_type": "markdown",
   "metadata": {},
   "source": [
    "Hand-written numbers in the training dataset are randomly picked up and shown."
   ]
  },
  {
   "cell_type": "code",
   "execution_count": 3,
   "metadata": {},
   "outputs": [
    {
     "data": {
      "image/png": "[encoded data removed]",
      "text/plain": [
       "<Figure size 432x432 with 100 Axes>"
      ]
     },
     "metadata": {},
     "output_type": "display_data"
    }
   ],
   "source": [
    "import random\n",
    "\n",
    "num_fig=100\n",
    "\n",
    "plt.figure(figsize=(6,6))\n",
    "\n",
    "for j in range(num_fig):\n",
    "    plt.subplot(10,10, j+1)\n",
    "    number=random.randrange(0,m-1,1)\n",
    "    plt.pcolormesh(np.rot90(ConvertVectorToMatrix(X0[number]),k=1,axes=(0,1)),cmap='Greys')\n",
    "    plt.tick_params(bottom=False,left=False,labelbottom=False,labelleft=False)\n",
    "\n",
    "plt.subplots_adjust(wspace=0, hspace=0)\n",
    "plt.show()"
   ]
  },
  {
   "cell_type": "markdown",
   "metadata": {},
   "source": [
    "## Definitions of functions"
   ]
  },
  {
   "cell_type": "markdown",
   "metadata": {},
   "source": [
    "### Hypothesis"
   ]
  },
  {
   "cell_type": "markdown",
   "metadata": {},
   "source": [
    "The function \"<strong>Hypothesis(theta_f,Xf)</strong>\" is the hypothesis *h<sub>&theta;</sub>* (*x*) for a logistic regression model. In this code, this function is treated as a (m x 1)-vector.\n",
    "\n",
    "$$\n",
    "    \\mathrm{Hypothesis}(\\theta_f,X_f) = g\\bigl([\\theta_f^{T} X_f^{T}]^{T}\\bigl),\n",
    "$$\n",
    "\n",
    "where the parameters &theta;<sub>f</sub> (n x 1 vector) are written by\n",
    "$$\n",
    "    \\boldsymbol{\\theta_f} =\n",
    "        \\left[\\begin{array}{c}\n",
    "            \\theta_0 \\\\\n",
    "            \\theta_1 \\\\\n",
    "            \\vdots \\\\            \n",
    "            \\theta_n \\\\\n",
    "        \\end{array}\\right] \\quad\n",
    "$$\n",
    "and function g is the sigmoid function. The sigmoid function is defined as\n",
    "$$\n",
    "        g(z)=\\frac{1}{1+e^{-z}}.\n",
    "$$\n",
    "In this case, the hypothesis h takes values between 0 and 1."
   ]
  },
  {
   "cell_type": "markdown",
   "metadata": {},
   "source": [
    "### Cost function J for regularized logistic regression"
   ]
  },
  {
   "cell_type": "markdown",
   "metadata": {},
   "source": [
    "The function \"<strong>RegLRCostFunctionJ</strong>\" returns the cost for specific input of theta parameters. The regularized cost function for logistic regression is given by\n",
    "$$\n",
    "    J=\\frac{1}{m}\\sum_{i=1}^{m}\\biggl(-y^{(i)}log\\bigl(h_\\theta(x^{(i)})\\bigl)-(1-y^{(i)})log\\bigl(1-h_\\theta(x^{(i)})\\bigl)\\biggl)+\\frac{\\lambda}{2m}\\sum_{j=1}^{n}\\theta^2_j.\n",
    "$$\n",
    "The final term in the above equation is the regularization term. It should be noted that the parameter &theta;<sub>0</sub> should not be regularized. In the equation above, the second summation is taken from j = 1 (not j = 0) to j = n."
   ]
  },
  {
   "cell_type": "markdown",
   "metadata": {},
   "source": [
    "### Partial derivative of regularized logistic regression cost for &theta;<sub>j</sub>"
   ]
  },
  {
   "cell_type": "markdown",
   "metadata": {},
   "source": [
    "The function \"<strong>RegLRGradient</strong>\" returns the gradient of the cost function that is a vector where the j-th element is defined as\n",
    "\n",
    "$$\n",
    "    \\frac{{\\partial}J(\\theta)}{{\\partial}\\theta_j}=\\frac{1}{m}\\sum_{i=1}^{m}\\bigl(h_\\theta(x^{(i)})-y^{(i)})\\bigl)x^{(i)}_j \\ \\ \\ \\ \\ \\ \\ (\\mathrm{for } j = 0) \n",
    "$$\n",
    "\n",
    "and \n",
    "\n",
    "$$\n",
    "    \\frac{{\\partial}J(\\theta)}{{\\partial}\\theta_j}=\\frac{1}{m}\\sum_{i=1}^{m}\\bigl(h_\\theta(x^{(i)})-y^{(i)})\\bigl)x^{(i)}_j + \\frac{\\lambda}{m}\\theta_j \\ \\ \\ \\ \\ \\ \\ (\\mathrm{for } j \\geq 1) \n",
    "$$\n",
    "for i-th trainintg set. If we rewrite these formulae as a vector, it will look like\n",
    "\n",
    "$$\n",
    "        \\left[\\begin{array}{c}\n",
    "            \\frac{{\\partial}J(\\theta)}{{\\partial}\\theta_0} \\\\\n",
    "            \\frac{{\\partial}J(\\theta)}{{\\partial}\\theta_1} \\\\\n",
    "            \\vdots \\\\            \n",
    "            \\frac{{\\partial}J(\\theta)}{{\\partial}\\theta_j} \\\\\n",
    "            \\vdots \\\\\n",
    "            \\frac{{\\partial}J(\\theta)}{{\\partial}\\theta_n} \\\\\n",
    "        \\end{array}\\right] \\quad\n",
    "     =\n",
    "        \\left[\\begin{array}{c}\n",
    "            \\frac{1}{m}\\sum_{i=1}^{m}\\bigl(h_\\theta(x^{(i)})-y^{(i)})\\bigl)x^{(i)}_0   \\\\\n",
    "            \\frac{1}{m}\\sum_{i=1}^{m}\\bigl(h_\\theta(x^{(i)})-y^{(i)})\\bigl)x^{(i)}_1 + \\frac{\\lambda}{m}\\theta_1   \\\\\n",
    "            \\vdots \\\\            \n",
    "            \\frac{1}{m}\\sum_{i=1}^{m}\\bigl(h_\\theta(x^{(i)})-y^{(i)})\\bigl)x^{(i)}_j + \\frac{\\lambda}{m}\\theta_j  \\\\\n",
    "            \\vdots \\\\            \n",
    "            \\frac{1}{m}\\sum_{i=1}^{m}\\bigl(h_\\theta(x^{(i)})-y^{(i)})\\bigl)x^{(i)}_n + \\frac{\\lambda}{m}\\theta_n  \\\\\n",
    "        \\end{array}\\right] \\quad\n",
    "$$\n",
    "for i-th training set."
   ]
  },
  {
   "cell_type": "markdown",
   "metadata": {},
   "source": [
    "### One-vs-all classification\n"
   ]
  },
  {
   "cell_type": "markdown",
   "metadata": {},
   "source": [
    "#### Concept\n",
    "In the previous notebook (Ex2.ipynb), we learned binary classification, which is a method of classifying the elements of a given dataset into two groups. In the case of one-vs-all classification, there are more than two groups. Let us say that the number of groups is given by the integer K. In this case, K classifiers are collectively used for multi-class classification. Because each classifier determines whether the given data belongs to a specific group or not, it might be possible to call this method \"One-vs-rest\" instead of one-vs-all."
   ]
  },
  {
   "cell_type": "markdown",
   "metadata": {},
   "source": [
    "In order to do the multi-class classification, it is necessary to train a logistic regression classifier and its parameters &Theta;. The parameters &Theta; is (K x n)-matrix:\n",
    "\n",
    "$$\n",
    "    \\boldsymbol{\\Theta} =\n",
    "        \\left[\\begin{array}{c}\n",
    "            \\theta_1^{1} & \\theta_2^{1} & \\dots &  \\theta_n^{1} \\\\\n",
    "            \\theta_1^{2} & \\theta_2^{2} & \\dots &  \\theta_n^{2} \\\\\n",
    "            \\vdots \\\\            \n",
    "            \\theta_1^{k} & \\theta_2^{k} & \\dots &  \\theta_n^{k} \\\\\n",
    "            \\vdots \\\\            \n",
    "            \\theta_1^{K} & \\theta_2^{K} & \\dots &  \\theta_n^{K} \\\\\n",
    "        \\end{array}\\right] \\quad,\n",
    "$$\n",
    "\n",
    "where n is the number of features. After completing the one-vs-all classification model, it is possible to calculate the probability for each group. "
   ]
  },
  {
   "cell_type": "markdown",
   "metadata": {},
   "source": [
    "Let us prepare one training data (j-th image) which is a specific row of the matrix X:\n",
    "\n",
    "$$\n",
    "    \\boldsymbol{X(j)} =\n",
    "        \\left[\\begin{array}{c}\n",
    "            1 & x_1^{(j)} & x_2^{(j)} & \\dots & x_{n_{pixel}}^{(j)} \\\\\n",
    "        \\end{array}\\right]\\quad,\n",
    "$$\n",
    "where the integer j satisfies  \n",
    "$$\n",
    "    1 \\leq j \\leq m.\n",
    "$$\n",
    "This is (1 x n)-vector. We can calculate the probability using the hypothesis as follows:\n",
    "$$\n",
    "   h = g(\\Theta X^{T}) =\n",
    "   \\left[\\begin{array}{c}\n",
    "            \\theta_1^1 + x_1^{(j)}\\theta_2^1 + x_2^{(j)}\\theta_3^1 + \\dots + x_{n_{pixel}}^{(j)}\\theta_n^1 \\\\\n",
    "            \\theta_1^2 + x_1^{(j)}\\theta_2^2 + x_2^{(j)}\\theta_3^2 + \\dots + x_{n_{pixel}}^{(j)}\\theta_n^2 \\\\\n",
    "            \\vdots \\\\\n",
    "            \\theta_1^K + x_1^{(j)}\\theta_2^K + x_2^{(j)}\\theta_3^K + \\dots + x_{n_{pixel}}^{(j)}\\theta_n^K \\\\            \n",
    "        \\end{array}\\right]\\quad,\n",
    "$$\n",
    "which is K-dimensional matrix whose components are probabilities. For example, if the given training data (j-th image) was classified to the group 2, the hypothesis vector would look like\n",
    "$$\n",
    "   h = g(\\Theta X^{T}) =\n",
    "   \\left[\\begin{array}{c}\n",
    "            0 \\ \\ \\ (\\mathrm{group}\\ 1,\\ k=1)\\\\\n",
    "            1 \\ \\ \\ (\\mathrm{group}\\ 2,\\ k=2)\\\\\n",
    "            0 \\ \\ \\ (\\mathrm{group}\\ 3,\\ k=3) \\\\\n",
    "            \\vdots \\\\\n",
    "            0 \\ \\ \\ (\\mathrm{group}\\ 10,\\ k=10)  \\\\            \n",
    "        \\end{array}\\right]\\quad,\n",
    "$$\n",
    "in an ideal case. "
   ]
  },
  {
   "cell_type": "markdown",
   "metadata": {},
   "source": [
    "#### Minimization\n",
    "The regularized cost function J will be minimized by changing the parameters &theta;. The minimization of the cost function can be done using [scipy.optimize.minimize](https://docs.scipy.org/doc/scipy/reference/generated/scipy.optimize.minimize.html#scipy.optimize.minimize) in the function \"<strong>oneVsAll</strong>.\" Some algorithms are available. In this notebook, [conjugate gradient (CG) algorithm](https://en.wikipedia.org/wiki/Conjugate_gradient_method), which requires gradient function, is adopted."
   ]
  },
  {
   "cell_type": "markdown",
   "metadata": {},
   "source": [
    "### Functions"
   ]
  },
  {
   "cell_type": "code",
   "execution_count": 4,
   "metadata": {},
   "outputs": [],
   "source": [
    "def Hypothesis(theta_f,Xf):\n",
    "    from scipy.special import expit\n",
    "    #expit(x) is the sigmoid function  \n",
    "    return expit(np.matmul(Xf,theta_f)) # m x 1 vector\n",
    "\n",
    "def RegLRCostFunctionJ(theta_f, lambda_f, Xf, yf):\n",
    "    mf=Xf.shape[0] # 5000\n",
    "    hf = Hypothesis(theta_f,Xf)\n",
    "    term1=-np.dot(yf.T,np.log(hf))  \n",
    "    term2=-np.dot((1-yf).T,np.log(1-hf)) \n",
    "    reg_term = 0.5 * lambda_f/mf *( np.dot(theta_f.T,theta_f)-theta_f[0]*theta_f[0])\n",
    "    return (1/mf) * ( term1 + term2) +reg_term \n",
    "\n",
    "def RegLRGradient(theta_f, lambda_f, Xf,yf):\n",
    "    mf = yf.size\n",
    "    hf=Hypothesis(theta_f.reshape(-1,1),Xf)      \n",
    "\n",
    "    ret = (1/mf)*Xf.T.dot(hf-yf) + (lambda_f/mf)*np.r_[[[0]],theta_f[1:].reshape(-1,1)]\n",
    "        \n",
    "    return ret.flatten()\n",
    "\n",
    "\n",
    "def oneVsAll(theta_f, lambda_f,Xf, yf, n_labels,num_iter_f):\n",
    "    from scipy.optimize import minimize\n",
    "    \n",
    "    all_theta = np.zeros((n_labels, Xf.shape[1])) #10x401\n",
    "\n",
    "    for Kj in range(1, n_labels+1): # Kj=1,2,3....10\n",
    "        result = minimize(fun=RegLRCostFunctionJ,x0= theta_f, args=(lambda_f, Xf, (yf == Kj)), method='CG',\n",
    "                       jac=RegLRGradient, options={'maxiter':num_iter_f})\n",
    "        all_theta[Kj-1] = result.x\n",
    "    return all_theta \n",
    "\n",
    "def predictOneVsAll(all_theta_f, Xf):\n",
    "    prob = Hypothesis(all_theta_f.T,Xf) #5000x10        \n",
    "    return(np.argmax(prob, axis=1)+1)  #5000 x 1"
   ]
  },
  {
   "cell_type": "markdown",
   "metadata": {},
   "source": [
    "The validity of the cost function and the gradient will be checked in the next cell."
   ]
  },
  {
   "cell_type": "code",
   "execution_count": 5,
   "metadata": {
    "scrolled": false
   },
   "outputs": [
    {
     "name": "stdout",
     "output_type": "stream",
     "text": [
      "Calculated cost: 2.534819\n",
      "Expected cots:   2.534819\n",
      "Calculated gradients: 0.146561, -0.548558, 0.724722, 1.398003\n",
      "Expected costs:         0.146561, -0.548558, 0.724722, 1.398003 \n"
     ]
    }
   ],
   "source": [
    "Mtemp=np.reshape(np.linspace(0.1,1.5,15),(3,5)).T\n",
    "X_test=np.insert(Mtemp, 0, 1, axis=1)\n",
    "y_test=np.array([[1],[0],[1],[0],[1]])\n",
    "theta_test=np.array([[-2],[-1],[1],[2]])\n",
    "lambda_test=3\n",
    "\n",
    "grad_test=RegLRGradient(theta_test,lambda_test,X_test,y_test)\n",
    "\n",
    "print('Calculated cost: %0.6f'%RegLRCostFunctionJ(theta_test,lambda_test,X_test,y_test )) \n",
    "print('Expected cots:   2.534819')\n",
    "print('Calculated gradients: %0.6f, %0.6f, %0.6f, %0.6f'%(grad_test[0],grad_test[1],grad_test[2],grad_test[3]))\n",
    "print('Expected costs:         0.146561, -0.548558, 0.724722, 1.398003 ')"
   ]
  },
  {
   "cell_type": "markdown",
   "metadata": {},
   "source": [
    "## One-vs-all classification and prediction"
   ]
  },
  {
   "cell_type": "markdown",
   "metadata": {},
   "source": [
    "A regularized logistic regression classifier h for each class k will be trained and used to predict the probability that y=k. The training set accuracy depends on the number of iterations, the method of minimization, and the parameter &lambda;. Reasonable values are somewhere around 92-97 %."
   ]
  },
  {
   "cell_type": "code",
   "execution_count": 6,
   "metadata": {},
   "outputs": [
    {
     "name": "stdout",
     "output_type": "stream",
     "text": [
      "Training set accuracy: 95.06 %\n"
     ]
    }
   ],
   "source": [
    "initial_theta = np.zeros((n,1))  # 401x1\n",
    "lambda_test=0.1\n",
    "Kc=10\n",
    "num_iter=50\n",
    "\n",
    "theta = oneVsAll(initial_theta,lambda_test,X, y, Kc,num_iter)\n",
    "pred = predictOneVsAll(theta, X)\n",
    "print('Training set accuracy: {} %'.format(np.mean(pred == y.ravel())*100))"
   ]
  },
  {
   "cell_type": "markdown",
   "metadata": {},
   "source": [
    "In the next cell, several images will be randomly selected and compared with predictions. The predicted numbers will appear on the bottom left. Sometimes the prediction is not correct because the training set accuracy is not 100 %."
   ]
  },
  {
   "cell_type": "code",
   "execution_count": 7,
   "metadata": {},
   "outputs": [
    {
     "data": {
      "image/png": "[encoded data removed]",
      "text/plain": [
       "<Figure size 432x432 with 16 Axes>"
      ]
     },
     "metadata": {},
     "output_type": "display_data"
    }
   ],
   "source": [
    "num_fig=16\n",
    "plt.figure(figsize=(6,6))\n",
    "\n",
    "for j in range(num_fig):\n",
    "    plt.subplot(4,4, j+1)\n",
    "    number=random.randrange(0,m-1,1)\n",
    "    plt.pcolormesh(np.rot90(ConvertVectorToMatrix(X0[number]),k=1,axes=(0,1)),cmap='Greys')\n",
    "    plt.tick_params(bottom=False,left=False,labelbottom=False,labelleft=False)\n",
    "    \n",
    "    if pred[number] == 10:\n",
    "        plt.text(0.5,0.5, '0', fontsize=16)\n",
    "    else:\n",
    "        plt.text(0.5,0.5, '%d'%(pred[number]),fontsize=16)\n",
    "\n",
    "plt.subplots_adjust(wspace=0, hspace=0)\n",
    "plt.show()"
   ]
  },
  {
   "cell_type": "code",
   "execution_count": null,
   "metadata": {},
   "outputs": [],
   "source": []
  },
  {
   "cell_type": "markdown",
   "metadata": {
    "scrolled": true
   },
   "source": [
    "# Neural network"
   ]
  },
  {
   "cell_type": "markdown",
   "metadata": {},
   "source": [
    "## Introduction"
   ]
  },
  {
   "cell_type": "markdown",
   "metadata": {},
   "source": [
    "In this part, a neural network will be implemented to recognize handwritten digits using the same training set as before. Trained parameters for a neural network are already given in the file \"<strong>ex3weights.mat</strong>\". Hence, this part of the notebook only shows a code for the feedforward propagation algorithm. "
   ]
  },
  {
   "cell_type": "markdown",
   "metadata": {},
   "source": [
    "## Concept"
   ]
  },
  {
   "cell_type": "markdown",
   "metadata": {},
   "source": [
    "For the sake of simplicity, let us prepare one training data (j-th image) which is a specific row of the matrix X:\n",
    "\n",
    "$$\n",
    "   \\boldsymbol{a^{(1)}} =\n",
    "    \\boldsymbol{X(j)} =\n",
    "        \\left[\\begin{array}{c}\n",
    "            a_0^{(1)} & x_1^{(j)} & x_2^{(j)} & \\dots & x_{n_{pixel}}^{(j)} \\\\\n",
    "        \\end{array}\\right]\n",
    "            =\n",
    "                    \\left[\\begin{array}{c}\n",
    "            1 & x_1^{(j)} & x_2^{(j)} & \\dots & x_{n_{pixel}}^{(j)} \\\\\n",
    "        \\end{array}\\right]\\quad,\n",
    "$$\n",
    "where the integer j satisfies  \n",
    "$$\n",
    "    1 \\leq j \\leq m.\n",
    "$$\n",
    "This is (1 x n)-dimensional vector and called an input layer. "
   ]
  },
  {
   "cell_type": "markdown",
   "metadata": {},
   "source": [
    "The input layer is transformed into a hidden layer a<sup>(2)</sup> by using an activation function g(z) and adding a bias term (1) to the first component. In the present case, g(z) is the sigmoid function. \n",
    "\n",
    "Let us introduce a parameter &Theta;<sup>(1)</sup>, which is (m<sub>&Theta;<sub>1</sub></sub> x n)-matrix:\n",
    "\n",
    "$$\n",
    "    \\boldsymbol{\\Theta^{(1)}} =\n",
    "        \\left[\\begin{array}{c}\n",
    "            \\Theta_{1,1}^{(1)} & \\Theta_{1,2}^{(1)} & \\dots &  \\Theta_{1,n}^{(1)} \\\\\n",
    "            \\Theta_{2,1}^{(1)} & \\Theta_{2,2}^{(1)} & \\dots &  \\Theta_{2,n}^{(1)} \\\\\n",
    "            \\vdots & \\vdots && \\vdots \\\\            \n",
    "             \\Theta_{m_{\\Theta_1},1}^{(1)} & \\Theta_{m_{\\Theta_1},2}^{(1)} & \\dots &  \\Theta_{{m_{\\Theta_1},n}}^{(1)} \\\\\n",
    "        \\end{array}\\right] \\quad,\n",
    "$$\n",
    "\n",
    "Multiplication of a<sup>(1)</sup> and &Theta;<sup>(1)</sup> gives\n",
    "\n",
    "$$\n",
    "    z^{(2)}=a^{(1)}\\Theta^{(1)^T}=\n",
    "     \\left[\\begin{array}{c}\n",
    "            1 & x_1^{(j)} & x_2^{(j)} & \\dots & x_{n_{pixel}}^{(j)} \\\\\n",
    "        \\end{array}\\right]\n",
    "        \\left[\\begin{array}{c}\n",
    "            \\Theta_{1,1}^{(1)} & \\Theta_{2,1}^{(1)} & \\dots &  \\Theta_{m_{\\Theta_1},1}^{(1)} \\\\\n",
    "            \\Theta_{1,2}^{(1)} & \\Theta_{2,2}^{(1)} & \\dots &  \\Theta_{m_{\\Theta_1},2}^{(1)} \\\\\n",
    "            \\vdots & \\vdots && \\vdots \\\\            \n",
    "             \\Theta_{1,n}^{(1)} & \\Theta_{2,n}^{(1)} & \\dots &  \\Theta_{{m_{\\Theta_1},n}}^{(1)} \\\\\n",
    "        \\end{array}\\right]\n",
    "        =\n",
    "            \\left[\\begin{array}{c}\n",
    "            z_1^{(2)} & z_2^{(2)} & \\dots & z_{m_{\\Theta_1}}^{(2)}\\\\\n",
    "        \\end{array}\\right]\\quad,       \n",
    "$$\n",
    "which is (1 x m<sub>&Theta;<sub>1</sub></sub>)-dimensional vector. \n",
    "\n",
    "The hidden layer is expressed by\n",
    "$$\n",
    "    a^{(2)}=\n",
    "           \\left[\\begin{array}{c}\n",
    "            a_0^{(2)} & g(z_1^{(2)}) & g(z_2^{(2)}) & \\dots & g(z_{m_{\\Theta_1}}^{(2)}) \n",
    "        \\end{array}\\right]\\quad,       \n",
    "$$\n",
    "where a<sub>0</sub><sup>(2)</sup> is a bias term and set to be 1 in the present notebook. This vector is 1 x (m<sub>&Theta;<sub>1</sub></sub>+1) dimensional vector."
   ]
  },
  {
   "cell_type": "markdown",
   "metadata": {},
   "source": [
    "The multiplication of K x (m<sub>&Theta;<sub>1</sub></sub>+1) matrix\n",
    "$$\n",
    "    \\boldsymbol{\\Theta^{(2)}} =\n",
    "        \\left[\\begin{array}{c}\n",
    "            \\Theta_{1,1}^{(2)} & \\Theta_{1,2}^{(2)} & \\dots &  \\Theta_{1,m_{\\Theta_1}+1}^{(2)} \\\\\n",
    "            \\Theta_{2,1}^{(2)} & \\Theta_{2,2}^{(2)} & \\dots &  \\Theta_{2,m_{\\Theta_1}+1}^{(2)} \\\\\n",
    "            \\vdots & \\vdots && \\vdots \\\\            \n",
    "             \\Theta_{K,1}^{(2)} & \\Theta_{K,2}^{(2)} & \\dots &  \\Theta_{K,m_{\\Theta_1}+1}^{(2)} \\\\\n",
    "        \\end{array}\\right] \\quad\n",
    "$$\n",
    "and the hidden layer gives\n",
    "$$\n",
    " z^{(3)}=a^{(2)}\\Theta^{(2)^T}=\n",
    "      \\left[\\begin{array}{c}\n",
    "            a_0^{(2)} & g(z_1^{(2)}) & g(z_2^{(2)}) & \\dots & g(z_{m_{\\Theta_1}}^{(2)}) \n",
    "        \\end{array}\\right]\n",
    "       \\left[\\begin{array}{c}\n",
    "            \\Theta_{1,1}^{(2)} & \\Theta_{2,1}^{(2)} & \\dots &  \\Theta_{K,1}^{(2)} \\\\\n",
    "            \\Theta_{1,2}^{(2)} & \\Theta_{2,2}^{(2)} & \\dots &  \\Theta_{K,2}^{(2)} \\\\\n",
    "            \\vdots & \\vdots && \\vdots \\\\            \n",
    "             \\Theta_{1,m_{\\Theta_1}+1}^{(2)} & \\Theta_{2,m_{\\Theta_1}+1}^{(2)} & \\dots &  \\Theta_{K,m_{\\Theta_1}+1}^{(2)} \\\\\n",
    "        \\end{array}\\right] \n",
    "      =\n",
    "       \\left[\\begin{array}{c}\n",
    "            z_1^{(3)} & z_2^{(3)} & \\dots & z_K^{(2)}\\\\\n",
    "        \\end{array}\\right]\\quad\n",
    "$$\n",
    "\n",
    "Finally, the output layer is obtained by\n",
    "$$\n",
    "       a^{(3)}=\n",
    "       \\left[\\begin{array}{c}\n",
    "            g(z_1^{(3)}) & g(z_2^{(3)}) & \\dots & g(z_K^{(2)}) \\\\\n",
    "        \\end{array}\\right]\\quad,\n",
    "$$\n",
    "which is 1 x K vector. In the output layer, each component represents the probability that the input data is classified to a specific class. For example, if K=10 and the input data is assigned to the second group, the output layer looks like\n",
    "$$\n",
    "       a^{(3)}=\n",
    "       \\left[\\begin{array}{c}\n",
    "            0&1&0&0&0&0&0&0&0&0 \\\\\n",
    "        \\end{array}\\right]\\quad\n",
    "$$\n",
    "in an ideal case."
   ]
  },
  {
   "cell_type": "markdown",
   "metadata": {},
   "source": [
    "In the present case, integers are ginve as follows:\n",
    "$$\n",
    "    n=401, \\\\\n",
    "    m=5000, \\\\\n",
    "    m_{\\Theta_1}=25,\\\\\n",
    "    K=10.\n",
    "$$\n"
   ]
  },
  {
   "cell_type": "markdown",
   "metadata": {},
   "source": [
    "## Implementation"
   ]
  },
  {
   "cell_type": "code",
   "execution_count": 8,
   "metadata": {},
   "outputs": [
    {
     "name": "stdout",
     "output_type": "stream",
     "text": [
      "The size of X (a1, input layer): 5000 x 401\n",
      "The size of a2 (hidden layer): 5000 x 26\n",
      "The size of a3 (output layer): 5000 x 10\n"
     ]
    }
   ],
   "source": [
    "from scipy.special import expit\n",
    "\n",
    "print('The size of X (a1, input layer): %d x %d'%(X.shape[0],X.shape[1]))\n",
    "a2=expit(np.matmul(X,theta1.T))\n",
    "a2=np.insert(a2, 0, 1, axis=1)\n",
    "print('The size of a2 (hidden layer): %d x %d'%(a2.shape[0],a2.shape[1]))\n",
    "a3=expit(np.matmul(a2,theta2.T))\n",
    "print('The size of a3 (output layer): %d x %d'%(a3.shape[0],a3.shape[1]))"
   ]
  },
  {
   "cell_type": "code",
   "execution_count": 9,
   "metadata": {},
   "outputs": [
    {
     "name": "stdout",
     "output_type": "stream",
     "text": [
      "Training set accuracy: 97.52 %\n",
      "Expected value: 97.5 %\n"
     ]
    }
   ],
   "source": [
    "pred=np.argmax(a3, axis=1)+1\n",
    "print('Training set accuracy: {} %'.format(np.mean(pred == y.ravel())*100))\n",
    "print('Expected value: 97.5 %')"
   ]
  },
  {
   "cell_type": "markdown",
   "metadata": {},
   "source": [
    "In the next cell, several images will be randomly selected and compared with predictions. The predicted numbers will appear on the bottom left. Sometimes the prediction is not correct because the training set accuracy is not 100 %."
   ]
  },
  {
   "cell_type": "code",
   "execution_count": 10,
   "metadata": {},
   "outputs": [
    {
     "data": {
      "image/png": "[encoded data removed]",
      "text/plain": [
       "<Figure size 432x432 with 16 Axes>"
      ]
     },
     "metadata": {},
     "output_type": "display_data"
    }
   ],
   "source": [
    "num_fig=16\n",
    "\n",
    "plt.figure(figsize=(6,6))\n",
    "\n",
    "for j in range(num_fig):\n",
    "    plt.subplot(4,4, j+1)\n",
    "    number=random.randrange(0,m-1,1)\n",
    "    plt.pcolormesh(np.rot90(ConvertVectorToMatrix(X0[number]),k=1,axes=(0,1)),cmap='Greys')\n",
    "    plt.tick_params(bottom=False,left=False,labelbottom=False,labelleft=False)\n",
    "    \n",
    "    if pred[number] == 10:\n",
    "        plt.text(0.5,0.5, '0', fontsize=16)\n",
    "    else:\n",
    "        plt.text(0.5,0.5, '%d'%(pred[number]),fontsize=16)\n",
    "\n",
    "plt.subplots_adjust(wspace=0, hspace=0)\n",
    "plt.show()"
   ]
  },
  {
   "cell_type": "code",
   "execution_count": null,
   "metadata": {},
   "outputs": [],
   "source": []
  }
 ],
 "metadata": {
  "kernelspec": {
   "display_name": "Python 3",
   "language": "python",
   "name": "python3"
  },
  "language_info": {
   "codemirror_mode": {
    "name": "ipython",
    "version": 3
   },
   "file_extension": ".py",
   "mimetype": "text/x-python",
   "name": "python",
   "nbconvert_exporter": "python",
   "pygments_lexer": "ipython3",
   "version": "3.7.1"
  },
  "toc": {
   "base_numbering": 1,
   "nav_menu": {},
   "number_sections": true,
   "sideBar": true,
   "skip_h1_title": false,
   "title_cell": "Table of Contents",
   "title_sidebar": "Contents",
   "toc_cell": false,
   "toc_position": {},
   "toc_section_display": true,
   "toc_window_display": false
  }
 },
 "nbformat": 4,
 "nbformat_minor": 2
}
